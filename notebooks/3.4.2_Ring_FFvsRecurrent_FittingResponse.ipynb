{
 "cells": [
  {
   "cell_type": "code",
   "execution_count": null,
   "metadata": {
    "collapsed": false
   },
   "outputs": [
    {
     "name": "stdout",
     "output_type": "stream",
     "text": [
      "CSAConnector: libneurosim support not available in NEST.\n",
      "Falling back on PyNN's default CSAConnector.\n",
      "Please re-compile NEST using --with-libneurosim=PATH\n",
      "/usr/local/lib/python3.5/site-packages/matplotlib/__init__.py:1350: UserWarning:  This call to matplotlib.use() has no effect\n",
      "because the backend has already been chosen;\n",
      "matplotlib.use() must be called *before* pylab, matplotlib.pyplot,\n",
      "or matplotlib.backends is imported for the first time.\n",
      "\n"
     ]
    }
   ],
   "source": [
    "%load_ext autoreload\n",
    "%autoreload 2\n",
    "\n",
    "%matplotlib inline\n",
    "import numpy as np\n",
    "from RRNN import RRNN\n",
    "import matplotlib.pyplot as plt"
   ]
  },
  {
   "cell_type": "markdown",
   "metadata": {},
   "source": [
    "### Différences dans les courbes d'accord\n",
    "\n",
    "Par un ajustement de la distribution de Von Mises aux taux de décharge de la population excitatrice, nous tentons maintenant de montrer, de façon plus quantitative, l'effet de chacun des deux types de connectivité.\n",
    "\n",
    "Nous simulons donc le ring feed-forward et le ring récurrent avec différentes entrées, des distributions d'orientation ayant différentes largeurs de bande. Pour chacun des deux types de ring, nous mesurons le taux de décharge moyen de la population excitatrice et nous ajustons ensuite ces taux de décharge par des distributions de Von Mises."
   ]
  },
  {
   "cell_type": "code",
   "execution_count": null,
   "metadata": {
    "collapsed": false
   },
   "outputs": [],
   "source": [
    "time = 100\n",
    "bw_values = 180*np.logspace(0, -4, 5, base=2)\n",
    "fig, axs = plt.subplots(1, 2, figsize=(8, 4))\n",
    "\n",
    "for i in range(2):#, w in enumerate([0., .32]):\n",
    "    for bw_value in bw_values:\n",
    "        if i==1:\n",
    "            net = RRNN(time=time, c=1, b_input=bw_value)\n",
    "        else:\n",
    "            net = RRNN(time=time, ff_ring=True, b_input=bw_value)\n",
    "        df, spikesE, spikesI = net.model()\n",
    "        theta, fr, result = net.fit_vonMises(spikesE)\n",
    "        #print(result.best_fit.mean())\n",
    "        axs[i].plot(theta*180/np.pi, result.best_fit, label=str(bw_value))\n",
    "\n",
    "    axs[i].set_xlabel('orientation')\n",
    "    axs[i].set_ylabel('firing rate')\n",
    "    axs[i].axis('tight')\n",
    "    axs[i].set_ylim([0, 30])\n",
    "axs[0].set_title('feed-forward ring')\n",
    "axs[1].set_title('recurrent ring')\n",
    "\n",
    "plt.legend(loc='best')\n",
    "plt.show()\n",
    "\n",
    "fig.savefig('../figs/ring_feed-forward_vs_recurrent.png', dpi = 600)"
   ]
  },
  {
   "cell_type": "code",
   "execution_count": null,
   "metadata": {
    "collapsed": true
   },
   "outputs": [],
   "source": [
    "bw_values = 180*np.logspace(0, -4, 15, base=2)\n",
    "BW= np.zeros((2, len(bw_values)))\n",
    "for i in range(2):\n",
    "    for i_bw, bw_value in enumerate(bw_values):\n",
    "        if i==1:\n",
    "            net = RRNN(time=time, c=1, b_input=bw_value)\n",
    "        else:\n",
    "            net = RRNN(time=time, ff_ring=True, b_input=bw_value)\n",
    "        df, spikesE, spikesI = net.model()\n",
    "        theta, fr, result = net.fit_vonMises(spikesE)\n",
    "        B[i, i_bw] = result.params['sigma'].value"
   ]
  },
  {
   "cell_type": "code",
   "execution_count": null,
   "metadata": {
    "collapsed": false
   },
   "outputs": [],
   "source": [
    "  \n",
    "fig, ax = plt.subplots(1, 1, figsize=(8, 8))\n",
    "ax.plot(BW[0, i_bw], 'k.', label='feed-forward ring')\n",
    "ax.plot(BW[1, i_bw], 'r.', label='recurrent ring')\n",
    "        \n",
    "ax.set_xlabel('orientation')\n",
    "ax.set_ylabel('firing rate')\n",
    "ax.axis('tight')\n",
    "#ax.set_ylim([0, 30])\n",
    "\n",
    "plt.legend(loc='best')\n",
    "plt.show()\n",
    "\n",
    "fig.savefig('../figs/ring_feed-forward_vs_recurrent_BW.png', dpi = 600)"
   ]
  },
  {
   "cell_type": "code",
   "execution_count": null,
   "metadata": {
    "collapsed": true
   },
   "outputs": [],
   "source": []
  }
 ],
 "metadata": {
  "kernelspec": {
   "display_name": "Python 3",
   "language": "python",
   "name": "python3"
  },
  "language_info": {
   "codemirror_mode": {
    "name": "ipython",
    "version": 3
   },
   "file_extension": ".py",
   "mimetype": "text/x-python",
   "name": "python",
   "nbconvert_exporter": "python",
   "pygments_lexer": "ipython3",
   "version": "3.5.2"
  },
  "widgets": {
   "state": {},
   "version": "1.1.2"
  }
 },
 "nbformat": 4,
 "nbformat_minor": 0
}
