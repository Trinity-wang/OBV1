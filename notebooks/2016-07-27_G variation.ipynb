{
 "cells": [
  {
   "cell_type": "code",
   "execution_count": 3,
   "metadata": {
    "button": false,
    "collapsed": false,
    "deletable": true,
    "new_sheet": false,
    "run_control": {
     "read_only": false
    }
   },
   "outputs": [
    {
     "name": "stdout",
     "output_type": "stream",
     "text": [
      "The autoreload extension is already loaded. To reload it, use:\n",
      "  %reload_ext autoreload\n"
     ]
    }
   ],
   "source": [
    "%matplotlib inline\n",
    "#import seaborn as sns\n",
    "#sns.set_style(\"whitegrid\")\n",
    "#sns.set_context(\"notebook\", font_scale=1.5, rc={\"lines.linewidth\": 2.5})\n",
    "%load_ext autoreload\n",
    "%autoreload 2\n",
    "\n",
    "from RRNN import RRNN"
   ]
  },
  {
   "cell_type": "code",
   "execution_count": null,
   "metadata": {
    "collapsed": false,
    "scrolled": false
   },
   "outputs": [],
   "source": [
    "from RRNN import RRNN\n",
    "import numpy as np\n",
    "import matplotlib.pyplot as plt\n",
    "n_sim_each = 20\n",
    "net = RRNN(ring=False, recurrent=True)\n",
    "net.w = 1.\n",
    "g_0 = net.g\n",
    "\n",
    "for zoom in [1., .3]:\n",
    "    for net.g in g_0 * np.logspace(-zoom, zoom, n_sim_each):\n",
    "        net.init_params()\n",
    "        #print(net.w, net.sim_params['w_exc_exc'])\n",
    "        df, spikesE, spikesI = net.model()\n",
    "        net.Raster(df, spikesE, spikesI, input=True, title='g = {}'.format(net.g))\n",
    "        plt.show()"
   ]
  },
  {
   "cell_type": "code",
   "execution_count": null,
   "metadata": {
    "collapsed": true
   },
   "outputs": [],
   "source": []
  }
 ],
 "metadata": {
  "kernelspec": {
   "display_name": "Python 2",
   "language": "python",
   "name": "python2"
  },
  "language_info": {
   "codemirror_mode": {
    "name": "ipython",
    "version": 2
   },
   "file_extension": ".py",
   "mimetype": "text/x-python",
   "name": "python",
   "nbconvert_exporter": "python",
   "pygments_lexer": "ipython2",
   "version": "2.7.12"
  }
 },
 "nbformat": 4,
 "nbformat_minor": 0
}
