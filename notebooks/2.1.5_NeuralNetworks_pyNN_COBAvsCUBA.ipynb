{
 "cells": [
  {
   "cell_type": "code",
   "execution_count": 1,
   "metadata": {
    "button": false,
    "collapsed": true,
    "deletable": true,
    "new_sheet": false,
    "run_control": {
     "read_only": false
    }
   },
   "outputs": [],
   "source": [
    "%matplotlib inline\n",
    "import matplotlib.pyplot as plt"
   ]
  },
  {
   "cell_type": "markdown",
   "metadata": {},
   "source": [
    "### Implémentation sous PyNN\n",
    "\n",
    "Nous avons vu qu'une implémentation d'un même modèle peut radicalement changer de forme selon le simulateur utilisé. Il peut être utile, afin de ne pas passer trop de temps sur l'apprentissage des différents simulateurs, de trouver un moyen d'harmoniser l'écriture des modèles. PyNN (http://neuralensemble.org/PyNN) n'est pas un simulateur mais une API, une interface de description (i.e. programmation), qui permet de réaliser des simulations pouvant s'exécuter sur différents simulateurs, comme Nest ou Brian, sans changer le code d'implémentation. Elle permet également de générer divers graphiques aisément <cite data-cite=\"davis\">(Davison et al., 2008)</cite>.\n",
    "\n",
    "C'est avec cette interface que nous allons construire des réseaux neuronaux et programmer différents outils pour leur étude. Nous implémentons tout d'abord un réseau très simple afin de comparer l'efficacité de Nest et de Brian. Ces simulations permettent de vérifier que les implémentations de NEST et Brian fournissent des résultats quasi-identiques au niveau de l'implémentation des équations différentielles des modèles neuronaux. Il s'avère aussi que la simulation avec Nest se fait en un temps plus court que celle effectuée avec Brian. C'est pourquoi désormais nous utiliserons Nest pour la simulation de réseaux de neurones."
   ]
  },
  {
   "cell_type": "code",
   "execution_count": 2,
   "metadata": {
    "collapsed": false
   },
   "outputs": [
    {
     "ename": "ImportError",
     "evalue": "No module named brian",
     "output_type": "error",
     "traceback": [
      "\u001b[0;31m---------------------------------------------------------------------------\u001b[0m",
      "\u001b[0;31mImportError\u001b[0m                               Traceback (most recent call last)",
      "\u001b[0;32m<ipython-input-2-0fd177205e71>\u001b[0m in \u001b[0;36m<module>\u001b[0;34m()\u001b[0m\n\u001b[0;32m----> 1\u001b[0;31m \u001b[0;32mimport\u001b[0m \u001b[0mpyNN\u001b[0m\u001b[0;34m.\u001b[0m\u001b[0mbrian\u001b[0m \u001b[0;32mas\u001b[0m \u001b[0msim\u001b[0m\u001b[0;34m\u001b[0m\u001b[0m\n\u001b[0m\u001b[1;32m      2\u001b[0m \u001b[0;32mimport\u001b[0m \u001b[0mnumpy\u001b[0m\u001b[0;34m\u001b[0m\u001b[0m\n\u001b[1;32m      3\u001b[0m \u001b[0;34m\u001b[0m\u001b[0m\n\u001b[1;32m      4\u001b[0m \u001b[0;32mfrom\u001b[0m \u001b[0mpyNN\u001b[0m\u001b[0;34m.\u001b[0m\u001b[0mutility\u001b[0m \u001b[0;32mimport\u001b[0m \u001b[0mget_simulator\u001b[0m\u001b[0;34m,\u001b[0m \u001b[0minit_logging\u001b[0m\u001b[0;34m,\u001b[0m \u001b[0mnormalized_filename\u001b[0m\u001b[0;34m\u001b[0m\u001b[0m\n\u001b[1;32m      5\u001b[0m \u001b[0;32mfrom\u001b[0m \u001b[0mpyNN\u001b[0m\u001b[0;34m.\u001b[0m\u001b[0mparameters\u001b[0m \u001b[0;32mimport\u001b[0m \u001b[0mSequence\u001b[0m\u001b[0;34m\u001b[0m\u001b[0m\n",
      "\u001b[0;32m/usr/local/lib/python2.7/dist-packages/pyNN/brian/__init__.py\u001b[0m in \u001b[0;36m<module>\u001b[0;34m()\u001b[0m\n\u001b[1;32m      7\u001b[0m \u001b[0;34m\u001b[0m\u001b[0m\n\u001b[1;32m      8\u001b[0m \u001b[0;32mimport\u001b[0m \u001b[0mlogging\u001b[0m\u001b[0;34m\u001b[0m\u001b[0m\n\u001b[0;32m----> 9\u001b[0;31m \u001b[0;32mimport\u001b[0m \u001b[0mbrian\u001b[0m\u001b[0;34m\u001b[0m\u001b[0m\n\u001b[0m\u001b[1;32m     10\u001b[0m \u001b[0;32mfrom\u001b[0m \u001b[0mpyNN\u001b[0m \u001b[0;32mimport\u001b[0m \u001b[0mcommon\u001b[0m\u001b[0;34m,\u001b[0m \u001b[0mspace\u001b[0m\u001b[0;34m\u001b[0m\u001b[0m\n\u001b[1;32m     11\u001b[0m \u001b[0;32mfrom\u001b[0m \u001b[0mpyNN\u001b[0m\u001b[0;34m.\u001b[0m\u001b[0mcommon\u001b[0m\u001b[0;34m.\u001b[0m\u001b[0mcontrol\u001b[0m \u001b[0;32mimport\u001b[0m \u001b[0mDEFAULT_MAX_DELAY\u001b[0m\u001b[0;34m,\u001b[0m \u001b[0mDEFAULT_TIMESTEP\u001b[0m\u001b[0;34m,\u001b[0m \u001b[0mDEFAULT_MIN_DELAY\u001b[0m\u001b[0;34m\u001b[0m\u001b[0m\n",
      "\u001b[0;31mImportError\u001b[0m: No module named brian"
     ]
    }
   ],
   "source": [
    "import pyNN.brian as sim\n",
    "import numpy\n",
    "\n",
    "from pyNN.utility import get_simulator, init_logging, normalized_filename\n",
    "from pyNN.parameters import Sequence\n",
    "from pyNN.random import RandomDistribution as rnd\n",
    "from pyNN.utility.plotting import Figure, Panel\n",
    "\n",
    "\n",
    "# === Define parameters ========================================================\n",
    "\n",
    "n = 10      # Number of cells\n",
    "w = 0.2  # synaptic weight (µS)\n",
    "coba_params = {\n",
    "    'tau_m'      : 20.0,   # (ms)\n",
    "    'tau_syn_E'  : 2.0,    # (ms)\n",
    "    'tau_syn_I'  : 4.0,    # (ms)\n",
    "    'e_rev_E'    : 0.0,    # (mV)\n",
    "    'e_rev_I'    : -70.0,  # (mV)\n",
    "    'tau_refrac' : 2.0,    # (ms)\n",
    "    'v_rest'     : -60.0,  # (mV)\n",
    "    'v_reset'    : -70.0,  # (mV)\n",
    "    'v_thresh'   : -50.0,  # (mV)\n",
    "    'cm'         : 0.5}    # (nF)\n",
    "\n",
    "cuba_params = {\n",
    "    'tau_m'      : 20.0,   # (ms)\n",
    "    'tau_syn_E'  : 2.0,    # (ms)\n",
    "    'tau_syn_I'  : 4.0,    # (ms)\n",
    "    'tau_refrac' : 2.0,    # (ms)\n",
    "    'v_rest'     : -60.0,  # (mV)\n",
    "    'v_reset'    : -70.0,  # (mV)\n",
    "    'v_thresh'   : -50.0,  # (mV)\n",
    "    'cm'         : 0.5,    # (nF)\n",
    "    'i_offset'   : 0.0}\n",
    "dt         = 0.1           # (ms)\n",
    "syn_delay  = 1.0           # (ms)\n",
    "input_rate = 10.0         # (Hz)\n",
    "simtime    = 1000.0        # (ms)\n",
    "\n",
    "# === Build the network ========================================================\n",
    "\n",
    "sim.setup()\n",
    "\n",
    "coba = sim.Population(n, sim.IF_cond_alpha(**coba_params),\n",
    "                       initial_values={'v': rnd('uniform', (-60.0, -50.0))},\n",
    "                       label=\"coba\")\n",
    "\n",
    "cuba = sim.Population(n, sim.IF_curr_alpha(**cuba_params),\n",
    "                       initial_values={'v': rnd('uniform', (-60.0, -50.0))},\n",
    "                       label=\"cuba\")\n",
    "\n",
    "\n",
    "number = int(2*simtime*input_rate/1000.0)\n",
    "numpy.random.seed(26278342)\n",
    "\n",
    "\n",
    "def generate_spike_times(i):\n",
    "    gen = lambda: Sequence(numpy.add.accumulate(numpy.random.exponential(1000.0/input_rate, size=number)))\n",
    "    if hasattr(i, \"__len__\"):\n",
    "        return [gen() for j in i]\n",
    "    else:\n",
    "        return gen()\n",
    "#assert generate_spike_times(0).max() > simtime\n",
    "\n",
    "spike_source = sim.Population(n, sim.SpikeSourceArray(spike_times=generate_spike_times))\n",
    "\n",
    "\n",
    "input_conn1 = sim.Projection(spike_source, coba, sim.FixedProbabilityConnector(.1), sim.StaticSynapse(weight=w/4.,delay=syn_delay))\n",
    "input_conn2 = sim.Projection(spike_source, cuba, sim.FixedProbabilityConnector(.1), sim.StaticSynapse(weight=w*10,delay=syn_delay))\n",
    "\n",
    "#-------- Recording -------------\n",
    "spike_source.record('spikes')\n",
    "\n",
    "coba.record('spikes')\n",
    "coba[0:n].record(('v', 'gsyn_exc'))\n",
    "\n",
    "cuba.record('spikes')\n",
    "cuba[0:n].record(('v'))\n",
    "\n",
    "# === Run simulation ===========================================================\n",
    "\n",
    "sim.run(simtime)\n",
    "\n",
    "print(\"COBA Mean firing rate: \", coba.mean_spike_count()*1000.0/simtime, \"Hz\")\n",
    "print(\"CUBA Mean firing rate: \", cuba.mean_spike_count()*1000.0/simtime, \"Hz\")\n",
    "\n",
    "# === Clean up and quit ========================================================\n",
    "\n",
    "sim.end()"
   ]
  },
  {
   "cell_type": "markdown",
   "metadata": {},
   "source": [
    "#### COBA"
   ]
  },
  {
   "cell_type": "code",
   "execution_count": null,
   "metadata": {
    "button": false,
    "collapsed": false,
    "deletable": true,
    "new_sheet": false,
    "run_control": {
     "read_only": false
    }
   },
   "outputs": [],
   "source": [
    "coba_data = coba.get_data().segments[0]\n",
    "coba_vm = coba_data.filter(name=\"v\")[0]\n",
    "coba_gsyn = coba_data.filter(name=\"gsyn_exc\")[0]\n",
    "Figure(\n",
    "    Panel(coba_vm, ylabel=\"Membrane potential (mV)\"),\n",
    "    Panel(coba_gsyn, ylabel=\"Synaptic conductance (uS)\"),\n",
    "    #Panel(coda_data.spiketrains, xlabel=\"Time (ms)\", xticks=True, ms=1)\n",
    ")\n"
   ]
  },
  {
   "cell_type": "markdown",
   "metadata": {},
   "source": [
    "#### CUBA"
   ]
  },
  {
   "cell_type": "code",
   "execution_count": null,
   "metadata": {
    "button": false,
    "collapsed": false,
    "new_sheet": false,
    "run_control": {
     "read_only": false
    },
    "scrolled": true
   },
   "outputs": [],
   "source": [
    "cuba_data = cuba.get_data().segments[0]\n",
    "cuba_vm = cuba_data.filter(name=\"v\")[0]\n",
    "\n",
    "_ = Figure(\n",
    "    Panel(cuba_vm, ylabel=\"Membrane potential (mV)\"),\n",
    "#Panel(cuba_data.spiketrains, xlabel=\"Time (ms)\", xticks=True, ms=1)\n",
    ")"
   ]
  },
  {
   "cell_type": "markdown",
   "metadata": {},
   "source": [
    "#### merge"
   ]
  },
  {
   "cell_type": "code",
   "execution_count": null,
   "metadata": {
    "collapsed": false
   },
   "outputs": [],
   "source": [
    "Figure(\n",
    "    Panel(coba_vm, ylabel=\"COBA: Membrane potential (mV)\"),\n",
    "    Panel(coba_gsyn, ylabel=\"COBA: Synaptic conductance (uS)\"),\n",
    "    Panel(cuba_vm, ylabel=\"CUBA: Membrane potential (mV)\"),\n",
    "    Panel(cuba_data.spiketrains, ylabel=\"CUBA: Spikes (mV)\", xlabel=\"Time (ms)\", xticks=True, ms=1)\n",
    ").save('figs/pynn.png')"
   ]
  }
 ],
 "metadata": {
  "kernelspec": {
   "display_name": "Python 2",
   "language": "python",
   "name": "python2"
  },
  "language_info": {
   "codemirror_mode": {
    "name": "ipython",
    "version": 2
   },
   "file_extension": ".py",
   "mimetype": "text/x-python",
   "name": "python",
   "nbconvert_exporter": "python",
   "pygments_lexer": "ipython2",
   "version": "2.7.9"
  },
  "widgets": {
   "state": {},
   "version": "1.1.2"
  }
 },
 "nbformat": 4,
 "nbformat_minor": 0
}
