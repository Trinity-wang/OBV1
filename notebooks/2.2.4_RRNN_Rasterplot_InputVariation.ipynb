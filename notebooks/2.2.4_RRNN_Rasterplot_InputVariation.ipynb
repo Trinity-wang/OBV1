{
 "cells": [
  {
   "cell_type": "code",
   "execution_count": null,
   "metadata": {
    "button": false,
    "collapsed": false,
    "deletable": true,
    "new_sheet": false,
    "run_control": {
     "read_only": false
    }
   },
   "outputs": [],
   "source": [
    "%matplotlib inline\n",
    "#import seaborn as sns\n",
    "#sns.set_style(\"whitegrid\")\n",
    "#sns.set_context(\"notebook\", font_scale=1.5, rc={\"lines.linewidth\": 2.5})\n",
    "%load_ext autoreload\n",
    "%autoreload 2"
   ]
  },
  {
   "cell_type": "markdown",
   "metadata": {
    "button": false,
    "new_sheet": false,
    "run_control": {
     "read_only": false
    }
   },
   "source": [
    "### Rôle du taux de décharge de l'entrée\n",
    "\n",
    "L'activité neuronale de la population source est définie par un processus de Poisson homogène. \n",
    "L'activité de la population source est l'énergie apportée au RRNN. Il est alors important d'observer l'effet d'une manipulation de cette activité sur le comportement du réseau.\n",
    "\n",
    "Pour chaque valeur de taux de décharge de la population source une simulation du RRNN est exécutée et des rasterplots des populations source, exciatrice (E) et inhibitrice (I) sont affichés.\n",
    "\n",
    "Il est remarqué qu'une augmentation suffisante de l'activité de la population source induit une augmentation d'activité dans les populations E et I. Cette discontinuité suggère l'existence d'un filtre entre la population source et les deux autres.\n",
    "\n",
    "### Rôle du poids de l'entrée\n",
    "\n",
    "Les rasterplots générés sur une manipulation de l'activité de la population source montrent l'existence de filtres entre l'activité de la source et l'activité du réseau. Le poids de l'entrée est un de ces filtres. Ce paramètre détermine les valeurs des poids des connexions synaptiques entre les neurones de la source et les neurones de la population E. Ici, son effet sur le comportement du réseau est étudié.\n",
    "\n",
    "Pour cela, un rasterplot des trois populations est généré par valeur du poids de l'entrée\n",
    "\n",
    "Il s'avère que l'augmentation du poids de l'entrée induit une augmentation de l'activité du réseau.\n",
    "            \n",
    "### Courbes de taux de décharge en fonction de l'activité et du poids de l'entrée\n",
    "\n",
    "Les rasterplots permet d'avoir un aperçu qualitatif de l'activité d'une population neuronale. Cependant, il est nécessaire de pouvoir observer de façon quantitative cette activité. Ici, les effets de la manipulation de l'activité de la population source ainsi que du poids de celle-ci sur l'activité du réseau sont réexaminés. \n",
    "\n",
    "Pour chacun des deux paramètres, une simulation du modèle est exécutée par valeur prise par le paramètre étudié et le taux de décharge neuronal moyen des populations E et I est recupéré. Chaque point d'une courbe étant défini par le couple (valeur du paramètre, taux de décharge), une courbe représente donc la variation de taux de décharge en fonction de la manipulation d'un paramètre.\n",
    "\n",
    "Il s'avère que le taux de décharge augmente bien quand l'activité de la population source ou le poids de l'entrée augmentent.           \n"
   ]
  },
  {
   "cell_type": "code",
   "execution_count": null,
   "metadata": {
    "button": false,
    "collapsed": false,
    "deletable": true,
    "new_sheet": false,
    "run_control": {
     "read_only": false
    },
    "scrolled": true
   },
   "outputs": [],
   "source": [
    "from RRNN import RRNN\n",
    "import numpy as np\n",
    "\n",
    "\n",
    "n_sim_each, time = 25, 1000\n",
    "n_sim_each, time = 7, 1000\n",
    "n_sim_each, time = 5, 100\n",
    "\n",
    "net = RRNN(time=time, ring=False)\n",
    "_ = net.variationRaster('input_rate', net.sim_params['input_rate'] * np.logspace(-1, 1, n_sim_each))\n",
    "#_ = net.variationRaster('input_rate', net.sim_params['input_rate'] * np.logspace(-.2, .2, 10))"
   ]
  },
  {
   "cell_type": "code",
   "execution_count": null,
   "metadata": {
    "collapsed": false,
    "scrolled": true
   },
   "outputs": [],
   "source": [
    "_ = net.variationRaster('w_input_exc', net.sim_params['w_input_exc']*np.logspace(-1, 1, n_sim_each))"
   ]
  },
  {
   "cell_type": "markdown",
   "metadata": {
    "collapsed": false
   },
   "source": [
    "# stoooop\n",
    "n_sim_each, time = 25, 100\n",
    "\n",
    "net = RRNN(time = time)\n",
    "sim_list = [\n",
    "            ('input_rate' , net.sim_params['input_rate']*np.logspace(-1, .3, n_sim_each)),\n",
    "            ('w_input_exc', net.sim_params['w_input_exc']*np.logspace(-1, 1, n_sim_each)),\n",
    "]\n",
    "\n",
    "net.paramRole(sim_list, f_rate_max=None, datapath='/tmp/OB-V1_data/RRNN-IF' + tag)"
   ]
  }
 ],
 "metadata": {
  "kernelspec": {
   "display_name": "Python 3",
   "language": "python",
   "name": "python3"
  },
  "language_info": {
   "codemirror_mode": {
    "name": "ipython",
    "version": 3
   },
   "file_extension": ".py",
   "mimetype": "text/x-python",
   "name": "python",
   "nbconvert_exporter": "python",
   "pygments_lexer": "ipython3",
   "version": "3.5.2"
  },
  "widgets": {
   "state": {},
   "version": "1.1.2"
  }
 },
 "nbformat": 4,
 "nbformat_minor": 0
}
