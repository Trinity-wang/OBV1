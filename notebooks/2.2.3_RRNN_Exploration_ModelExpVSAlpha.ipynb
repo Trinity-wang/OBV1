{
 "cells": [
  {
   "cell_type": "code",
   "execution_count": null,
   "metadata": {
    "button": false,
    "collapsed": false,
    "deletable": true,
    "new_sheet": false,
    "run_control": {
     "read_only": false
    }
   },
   "outputs": [],
   "source": [
    "%matplotlib inline\n",
    "%load_ext autoreload\n",
    "%autoreload 2\n",
    "import time\n",
    "tag= 'tmp' + str(int(time.time()))"
   ]
  },
  {
   "cell_type": "markdown",
   "metadata": {
    "button": false,
    "new_sheet": false,
    "run_control": {
     "read_only": false
    }
   },
   "source": [
    "### Choix de la dynamique de la synapse (fonction de decay)\n",
    "\n",
    "Les modèles de neurones ``IFcondexp`` et ``IFcondalpha`` sont ici à nouveau comparés, dans le cadre du RRNN cette fois. Le but est d'éviter d'avoir un réseau qui sature trop facilement afin que les manipulations effectuées aient un effet observable.\n",
    "Les paramètres de taux de décharge d'entrée et de poids de l'entrée sont manipulés. Comme cela a pu être effectué précédemment, pour chacun de ces paramètres, le taux de décharge moyen des neurones du réseau est récupéré et une courbe est générée.\n",
    "\n",
    "Le rapport F/I est plus important pour un decay en alpha function. Afin d'éviter des saturations de l'activité du réseau et compte tenu des résultats obtenus avec les deux types de neurones, je choisis de conserver l'IF cond exp."
   ]
  },
  {
   "cell_type": "code",
   "execution_count": null,
   "metadata": {
    "button": false,
    "collapsed": false,
    "deletable": true,
    "new_sheet": false,
    "run_control": {
     "read_only": false
    }
   },
   "outputs": [],
   "source": [
    "import numpy as np\n",
    "from RRNN import RRNN\n",
    "\n",
    "net_exp = RRNN(ring=False)\n",
    "net_alpha = RRNN(n_model='cond_alpha', c=1.)\n",
    "datapath_exp = '/tmp/OB-V1_data/cond_exp' + tag\n",
    "datapath_alpha = '/tmp/OB-V1_data/cond_alpha' + tag\n",
    "\n",
    "n_sim_each = 20\n",
    "\n",
    "sim_list = [\n",
    "            ('input_rate' , net_exp.sim_params['input_rate']*np.logspace(-.1, .3, n_sim_each)),\n",
    "            ('w_input_exc', net_exp.sim_params['w_input_exc']*np.logspace(-.3, .3, n_sim_each)),\n",
    "]\n",
    "\n",
    "net_exp.paramRole(sim_list, datapath=datapath_exp, f_rate_max=None)\n",
    "\n",
    "net_alpha.paramRole(sim_list, datapath=datapath_alpha, f_rate_max=None)"
   ]
  }
 ],
 "metadata": {
  "kernelspec": {
   "display_name": "Python 3",
   "language": "python",
   "name": "python3"
  },
  "language_info": {
   "codemirror_mode": {
    "name": "ipython",
    "version": 3
   },
   "file_extension": ".py",
   "mimetype": "text/x-python",
   "name": "python",
   "nbconvert_exporter": "python",
   "pygments_lexer": "ipython3",
   "version": "3.5.2"
  },
  "widgets": {
   "state": {},
   "version": "1.1.2"
  }
 },
 "nbformat": 4,
 "nbformat_minor": 0
}
