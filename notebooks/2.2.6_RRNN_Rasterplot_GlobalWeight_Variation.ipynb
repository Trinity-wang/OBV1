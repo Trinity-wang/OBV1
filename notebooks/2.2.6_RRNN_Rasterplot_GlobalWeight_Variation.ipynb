{
 "cells": [
  {
   "cell_type": "code",
   "execution_count": null,
   "metadata": {
    "button": false,
    "collapsed": false,
    "deletable": true,
    "new_sheet": false,
    "run_control": {
     "read_only": false
    }
   },
   "outputs": [],
   "source": [
    "%matplotlib inline\n",
    "#import seaborn as sns\n",
    "#sns.set_style(\"whitegrid\")\n",
    "#sns.set_context(\"notebook\", font_scale=1.5, rc={\"lines.linewidth\": 2.5})\n",
    "%load_ext autoreload\n",
    "%autoreload 2"
   ]
  },
  {
   "cell_type": "markdown",
   "metadata": {
    "button": false,
    "new_sheet": false,
    "run_control": {
     "read_only": false
    }
   },
   "source": [
    "### Rôle du poids global\n",
    "\n",
    "Maintenant que le flux d'entrée est défini, il s'agit ici d'étudier les effets de la manipulation du poids global $W$. Modifier ce paramètre revient à changer tous les poids, hormis celui de la projection entre la source et la population E.\n",
    "\n",
    "Une simulation d'une seconde est exécutée pour chaque valeur de $W$ appartenant à l'intervalle de sa variation. Des rasterplots représentant l'activité des trois populations du modèle sont alors générés.\n",
    "\n",
    "Une augmentation de $W$ modifie bien le comportement des populations excitatrice et inhibitrice. Nous pouvons observer pour certaines valeurs de $W$, dans les populations E et I, un comportement de type Asynchronous Regular qui est un des quatres états d'activité décrits par Brunel, dont nous parlerons plus tard."
   ]
  },
  {
   "cell_type": "code",
   "execution_count": null,
   "metadata": {
    "collapsed": false,
    "scrolled": false
   },
   "outputs": [],
   "source": [
    "from RRNN import RRNN\n",
    "import numpy as np\n",
    "import matplotlib.pyplot as plt\n",
    "\n",
    "n_sim_each, time = 25, 1000\n",
    "n_sim_each, time = 5, 100\n",
    "\n",
    "net = RRNN(time=time, ring=False)\n",
    "for zoom in [.1, .3]:\n",
    "    for w in net.w * np.logspace(-zoom, zoom, n_sim_each):\n",
    "        net = RRNN(w=w, time=time, ring=False)\n",
    "        df, spikesE, spikesI = net.model()\n",
    "        net.Raster(df, spikesE, spikesI, input=True, title='weight = {}'.format(w))\n",
    "        plt.show()"
   ]
  }
 ],
 "metadata": {
  "kernelspec": {
   "display_name": "Python 3",
   "language": "python",
   "name": "python3"
  },
  "language_info": {
   "codemirror_mode": {
    "name": "ipython",
    "version": 3
   },
   "file_extension": ".py",
   "mimetype": "text/x-python",
   "name": "python",
   "nbconvert_exporter": "python",
   "pygments_lexer": "ipython3",
   "version": "3.5.2"
  }
 },
 "nbformat": 4,
 "nbformat_minor": 0
}
