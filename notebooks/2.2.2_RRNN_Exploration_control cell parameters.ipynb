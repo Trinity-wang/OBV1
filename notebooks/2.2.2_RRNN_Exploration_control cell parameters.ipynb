{
 "cells": [
  {
   "cell_type": "code",
   "execution_count": null,
   "metadata": {
    "button": false,
    "collapsed": false,
    "deletable": true,
    "new_sheet": false,
    "run_control": {
     "read_only": false
    }
   },
   "outputs": [],
   "source": [
    "%matplotlib inline\n",
    "import seaborn as sns\n",
    "sns.set_style(\"whitegrid\")\n",
    "sns.set_context(\"notebook\", font_scale=1.5, rc={\"lines.linewidth\": 2.5})\n",
    "%load_ext autoreload\n",
    "%autoreload 2\n",
    "import time\n",
    "tag= 'tmp' + str(int(time.time()))"
   ]
  },
  {
   "cell_type": "markdown",
   "metadata": {
    "button": false,
    "new_sheet": false,
    "run_control": {
     "read_only": false
    }
   },
   "source": [
    "### Effet de variations de paramètres cellulaires\n",
    "\n",
    "Il est primordial de bien choisir les valeurs des paramètres cellulaires pour éviter que l'activité du réseau soit trop basse ou trop élevée. Cette expérience contrôle est nécessaire pour rester dans un régime d'activité où la manipulation des paramètres non cellulaires aura un effet observable sur l'activité du réseau.\n",
    "\n",
    "Pour ce faire, le même procédé d'exploration utilisé pour le réseau feed-forward est effectué ici. Ainsi, l'effet de la variation de chacun des paramètres cellulaires sur le taux de décharge peut être observé. Nous rappelons que pour chaque paramètre étudié, plusieurs simulations du modèle sont lancés avec différentes valeurs du paramètre. Et, pour chaque simulation, le taux de décharge neuronal moyen de la population B est récupéré. Les résultats sont alors affichés dans une courbe du taux de décharge mesuré en fonction d'une variation d'un paramètre.\n",
    "\n",
    "Les résultats obtenus vérifient bien le fait que les paramètres cellulaires sont bien choisis."
   ]
  },
  {
   "cell_type": "markdown",
   "metadata": {
    "button": false,
    "deletable": true,
    "new_sheet": false,
    "run_control": {
     "read_only": false
    }
   },
   "source": [
    "### Results"
   ]
  },
  {
   "cell_type": "code",
   "execution_count": null,
   "metadata": {
    "button": false,
    "collapsed": false,
    "new_sheet": false,
    "run_control": {
     "read_only": false
    },
    "scrolled": true
   },
   "outputs": [],
   "source": [
    "import numpy as np\n",
    "from RRNN import RRNN\n",
    "\n",
    "datapath_cell = '/tmp/OB-V1_data/RRNN_cell9' + tag\n",
    "net = RRNN(ring=False)\n",
    "\n",
    "n_sim_each = 20\n",
    "sim_params = net.sim_params\n",
    "cell_params = net.cell_params\n",
    "sim_list = [\n",
    "            #('w_input_exc', np.linspace(0, 4, n_sim_each)),\n",
    "            #('input_rate' , sim_params['input_rate']*np.logspace(-1, 1, n_sim_each)),\n",
    "            #('syn_delay'  , sim_params['syn_delay']*np.logspace(-1, 1, n_sim_each)),\n",
    "            ('tau_m'      , cell_params['tau_m']*np.logspace(-1., 1., n_sim_each)),\n",
    "            ('tau_syn_E'  , cell_params['tau_syn_E']*np.logspace(-1, .3, n_sim_each)),\n",
    "            ('tau_syn_I'  , cell_params['tau_syn_I']*np.logspace(-1, .3, n_sim_each)),\n",
    "            ('e_rev_E'    , np.linspace(-30, 30, n_sim_each)),\n",
    "            ('e_rev_I'    , np.linspace(-90, 30, n_sim_each)),\n",
    "            ('tau_refrac' , cell_params['tau_refrac']*np.logspace(-1, 1, n_sim_each)),\n",
    "            ('v_rest'     , np.linspace(-90, -50, n_sim_each)),\n",
    "            ('v_reset'    , np.linspace(-90, -60, n_sim_each)),\n",
    "            ('v_thresh'   , np.linspace(-60, -20, n_sim_each)),\n",
    "            ('cm'         , cell_params['cm']*np.logspace(-1, 1, n_sim_each))\n",
    "]\n",
    "net.paramRole(sim_list, datapath=datapath_cell, semilog = False)"
   ]
  }
 ],
 "metadata": {
  "kernelspec": {
   "display_name": "Python 3",
   "language": "python",
   "name": "python3"
  },
  "language_info": {
   "codemirror_mode": {
    "name": "ipython",
    "version": 3
   },
   "file_extension": ".py",
   "mimetype": "text/x-python",
   "name": "python",
   "nbconvert_exporter": "python",
   "pygments_lexer": "ipython3",
   "version": "3.5.2"
  }
 },
 "nbformat": 4,
 "nbformat_minor": 0
}
