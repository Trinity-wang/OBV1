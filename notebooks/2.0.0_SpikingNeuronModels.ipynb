{
 "cells": [
  {
   "cell_type": "markdown",
   "metadata": {
    "button": false,
    "deletable": true,
    "new_sheet": false,
    "run_control": {
     "read_only": false
    }
   },
   "source": [
    "# Le réseau de neurones artificiels\n",
    "\n",
    "Dans ce chapitre, nous développerons différents aspects de l'implémentation en Python de réseaux de neurones artificiels, en allant du plus simple au plus complexe. Nous commencerons donc par introduire le neurone \"intègre et décharge\" et traiterons de son implémentation dans un réseau simple. Cette implémentation nous permettra de tester et comparer différents simulateurs de réseaux neuronaux. Puis, nous traiterons du 'random recurrent neural network' (RRNN) et de l'exploration de ses régimes dynamiques. Enfin, nous étudierons différents états du RRNN, notamment de l'état dit \"balancé\".\n"
   ]
  }
 ],
 "metadata": {
  "kernelspec": {
   "display_name": "Python 2",
   "language": "python",
   "name": "python2"
  },
  "language_info": {
   "codemirror_mode": {
    "name": "ipython",
    "version": 2
   },
   "file_extension": ".py",
   "mimetype": "text/x-python",
   "name": "python",
   "nbconvert_exporter": "python",
   "pygments_lexer": "ipython2",
   "version": "2.7.11"
  },
  "widgets": {
   "state": {},
   "version": "1.1.2"
  }
 },
 "nbformat": 4,
 "nbformat_minor": 0
}
