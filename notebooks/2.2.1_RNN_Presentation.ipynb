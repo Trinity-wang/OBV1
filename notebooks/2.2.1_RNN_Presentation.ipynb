{
 "cells": [
  {
   "cell_type": "markdown",
   "metadata": {},
   "source": [
    "## Le réseau de neurones aléatoire\n",
    "\n",
    "Afin de ne pas avoir à faire face à de nombreuses difficultés à la fois, il convient de développer et d'étudier le modèle de détection d'orientation étape par étape. Ainsi, avant de traiter le réseau en Ring, une généralisation de celui-ci, le réseau aléatoire ou \"random neural network\" (RNN), est d'abord développée et explorée. Cette étape permet, dans un premier temps, de négliger la topologie du réseau pour se concentrer sur la connectique ainsi que sur la recherche et démonstration d'un état d'équilibre de celui-ci. \n",
    "\n",
    "Le RNN utilisé est un réseau comportant mille neurones propres au réseau et cinq cents neurones pour la source, et est constitué de trois populations: une population source, une population excitatrice et une population inhibitrice. La population source mise à part, le réseau contient des neurones du même type que ceux utilisés dans le réseau feedforward étudié jusqu'à présent.\n",
    "\n",
    "Dès à présent, nous parlons de \"connexion\" pour désigner une connexion synaptique entre neurones, et de \"projection\" lorsque nous faisons référence à l'ensemble des connexions des neurones d'une population A aux neurones d'une autre population B. Le poids d'une projection, est alors le poids de toutes les connexions synaptiques de cette projection.\n",
    "Aussi le RRNN se décline sous deux formes :\n",
    "- une forme feed-forward dans laquelle seules les populations source et exitatrice sont connectées.\n",
    "- une forme récurrente appelée \"random recurrent neural network\" (RRNN)\n",
    "\n",
    "Dans ces deux formes du réseau, la population source comporte des neurones qui déchargent selon un processus de Poisson homogène. La population excitatrice, E, reçoit l'activité émise par la source via une projection de type \"one to one\". C'est-à-dire que chaque neurone de la population source est connecté à un seul neurone de la population E. Dans un RRNN, l'activité transformée par cette dernière excite la population inhibitrice. Et, la population inhibitrice, I, dont les neurones possèdent, hormis leur faculté d'inhibition, les mêmes propriétés que les neurones excitateurs, inhibe E. En outre, E et I possèdent des connexions récurrentes et de façon arbitraire (car on peut régler les poids d'interaction), les populations E et I possèdent le même nombre de neurones <cite data-cite=\"Brunel2000\">(Brunel, 2000)</cite>."
   ]
  },
  {
   "cell_type": "code",
   "execution_count": null,
   "metadata": {
    "collapsed": true
   },
   "outputs": [],
   "source": []
  }
 ],
 "metadata": {
  "kernelspec": {
   "display_name": "Python 2",
   "language": "python",
   "name": "python2"
  },
  "language_info": {
   "codemirror_mode": {
    "name": "ipython",
    "version": 2
   },
   "file_extension": ".py",
   "mimetype": "text/x-python",
   "name": "python",
   "nbconvert_exporter": "python",
   "pygments_lexer": "ipython2",
   "version": "2.7.12"
  }
 },
 "nbformat": 4,
 "nbformat_minor": 0
}
