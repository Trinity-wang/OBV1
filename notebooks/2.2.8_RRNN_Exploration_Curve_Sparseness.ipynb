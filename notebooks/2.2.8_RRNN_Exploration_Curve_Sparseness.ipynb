{
 "cells": [
  {
   "cell_type": "code",
   "execution_count": null,
   "metadata": {
    "button": false,
    "collapsed": false,
    "deletable": true,
    "new_sheet": false,
    "run_control": {
     "read_only": false
    }
   },
   "outputs": [],
   "source": [
    "%matplotlib inline\n",
    "import seaborn as sns\n",
    "sns.set_style(\"whitegrid\")\n",
    "sns.set_context(\"notebook\", font_scale=1.5, rc={\"lines.linewidth\": 2.5})\n",
    "%load_ext autoreload\n",
    "%autoreload 2\n",
    "import time\n",
    "tag= 'tmp' + str(int(time.time()))"
   ]
  },
  {
   "cell_type": "markdown",
   "metadata": {
    "button": false,
    "new_sheet": false,
    "run_control": {
     "read_only": false
    }
   },
   "source": [
    "### Courbes de taux de décharge en fonction des paramètres de sparseness\n",
    "\n",
    "Les effets observés de la manipulation des poids des différentes projections génèrent des variations de flux d'activité entre les différentes populations du réseau. Mais ces flux ne dépendent pas seulement des poids synaptiques. Ils dépendent également du nombre de connexions existantes entre les populations.\n",
    "\n",
    "Le simulateur utilisé permet de caractériser, de différentes manières, la façon de connecter les neurones de deux populations. Parmi les options proposées, se trouve un connecteur à probabilité fixe qui va connecter deux populations selon un paramètre de \"sparseness\". La \"sparseness\" est un paramètre définissant une probabilité de connexion synaptique entre les neurones de deux populations. Si la sparseness d'une projection est égale à 1, la projection est de type \"all to all\". Chaque projection possède donc un paramètre de \"sparseness\".\n",
    "\n",
    "Ici, l'évolution du taux de décharge en fonction d'une variation de \"sparseness\" des différentes projections est étudiée. Ces analyses permettent d'apprécier la contribution de ces différents paramètres à l'activité.\n",
    "\n",
    "Comme cela à pu être fait pour d'autres paramètres, une courbe de taux de décharge en fonction d'une variation de sparseness est générée pour chaque projection.\n",
    "\n",
    "L'augmentation de la probabilité de connexion pour les projections EI et IE (latérales) provoque une diminution du taux de décharge. Alors que la même manipulation pour les projections EE et II (recurrentes) provoque une augmentation du taux de décharge. \n",
    "\n",
    "Les résultats sont similaires à ceux obtenus avec la variation des poids synaptiques, ce qui amène à considérer la modification de la \"sparseness\" ou des poids d'une même projection, comme une manière ou une autre de manipuler le flux d'activité entre les populations que cette projection relie.\n",
    "C'est pourquoi dans la suite de ce projet, une manipulation du flux d'activité d'une population A à une autre population B sera implémentée simplement par une modification du poids de la projection AB.\n"
   ]
  },
  {
   "cell_type": "code",
   "execution_count": null,
   "metadata": {
    "collapsed": false
   },
   "outputs": [
    {
     "name": "stdout",
     "output_type": "stream",
     "text": [
      "CSAConnector: libneurosim support not available in NEST.\n",
      "Falling back on PyNN's default CSAConnector.\n",
      "Please re-compile NEST using --with-libneurosim=PATH\n",
      "------------  c_exc_inh  -------------"
     ]
    }
   ],
   "source": [
    "import numpy as np\n",
    "from RRNN import RRNN\n",
    "n_sim_each = 20\n",
    "net = RRNN(ring=False, recurrent=True)\n",
    "\n",
    "sim_params = net.sim_params\n",
    "cell_params = net.cell_params\n",
    "sim_list = [\n",
    "            #('p' , sim_params['p'] * np.logspace(-.2, .2, n_sim_each)),\n",
    "            ('c_exc_inh' , sim_params['c_exc_inh']*np.logspace(-1, 1, n_sim_each)),\n",
    "            ('c_inh_exc' , sim_params['c_inh_exc']*np.logspace(-1, 1, n_sim_each)),\n",
    "            ('c_exc_exc' , sim_params['c_exc_exc']*np.logspace(-1, 1, n_sim_each)),\n",
    "            ('c_inh_inh' , sim_params['c_inh_inh']*np.logspace(-1, 1, n_sim_each))\n",
    "]\n",
    "\n",
    "net.paramRole(sim_list, f_rate_max=None, datapath='/tmp/RRNN_topo1' + tag)"
   ]
  }
 ],
 "metadata": {
  "kernelspec": {
   "display_name": "Python 2",
   "language": "python",
   "name": "python2"
  },
  "language_info": {
   "codemirror_mode": {
    "name": "ipython",
    "version": 2
   },
   "file_extension": ".py",
   "mimetype": "text/x-python",
   "name": "python",
   "nbconvert_exporter": "python",
   "pygments_lexer": "ipython2",
   "version": "2.7.12"
  }
 },
 "nbformat": 4,
 "nbformat_minor": 0
}
