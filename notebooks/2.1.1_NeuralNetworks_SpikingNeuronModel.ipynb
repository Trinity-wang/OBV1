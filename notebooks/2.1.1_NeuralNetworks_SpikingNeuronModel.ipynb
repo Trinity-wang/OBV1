{
 "cells": [
  {
   "cell_type": "markdown",
   "metadata": {
    "button": false,
    "deletable": true,
    "new_sheet": false,
    "run_control": {
     "read_only": false
    }
   },
   "source": [
    "## Le neurone intègre et décharge\n",
    "        \n",
    "Le neurone intègre et décharge, ou \"integrate and fire\", est un modèle répandu du neurone biologique lorsque l'on désire simuler le fonctionnement de réseaux de neurones. Contrairement à d'autres modèles plus réalistes comme celui d'Hodgkin et Huxley <cite data-cite=\"Hodgkin\">(Hodgkin, Huxley 1952)</cite>, il néglige l'effet des courants ioniques sur le potentiel membranaire. Mais cette approximation permet de gagner en temps de calcul, en facteur d'ordre 2 <cite data-cite=\"Izhi\">(Izhikevitch, 2004)</cite> et offre la possibilité de simuler un réseau de neurones en un temps raisonnable. Sa variante la plus répandue est le neurone \"leaky integrate and fire\" (LIF), qui permet de prendre en considération des courants de fuite, qui sont regroupés en un terme de résistance membranaire.\n",
    "\n",
    "La dynamique du potentiel de membrane $V$ d'un neurone LIF est définie par :\n",
    "$$\n",
    "\\tau_m \\frac{d}{dt}V = E_L - V + R_mI_e\n",
    "$$\n",
    "\n",
    "avec\n",
    "\n",
    "- $\\tau_m$ : constante de temps membranaire\n",
    "- $E_L$ : potentiel de repos \n",
    "- $R_m$ : résistance membranaire\n",
    "- $I_e$ : courant entrant\n",
    "\n",
    "Un neurone LIF génère un potentiel d'action quand $V$ dépasse une valeur seuil $V_{threshold}$. Une fois ce seuil dépassé $V$ est réinitialisé à une valeur $V_{reset}$.\n",
    "\n",
    "Différents modèles de neurones LIF ont été développés. Certains de ces modèles tentent de concilier l'efficacité en temps de calcul du neurone LIF et le bioréalisme du modèle de Hodgkin et Huxley. Ainsi, il est possible de distinguer les neurones LIF conductance-based (COBA) des neurones LIF current-based (CUBA). Le modèle CUBA considère les entrées synaptiques comme des courants entrants qui vont, comme l'équation au dessus l'indique, faire évoluer le potentiel membranaire. Le modèle COBA, en revanche, traduit les entrées synaptiques par des changements de conductance, de telle sorte que des entrées vont amplifier les effets d'autres entrées sur le potentiel de membrane. Le modèle COBA est donc un peu plus bioréaliste que le modèle CUBA mais aussi plus complexe à étudier <cite data-cite=\"hansel1995synchrony\">(Hansel et al., 1995)</cite>.\n",
    "\n",
    "Ce projet porte sur la modélisation du cortex visuel primaire et nous pousse donc à choisir notre modèle neuronal parmi ceux disposant d'un minimum de réalisme. C'est pourquoi notre choix se porte sur le modèle COBA."
   ]
  }
 ],
 "metadata": {
  "kernelspec": {
   "display_name": "Python 2",
   "language": "python",
   "name": "python2"
  },
  "language_info": {
   "codemirror_mode": {
    "name": "ipython",
    "version": 2
   },
   "file_extension": ".py",
   "mimetype": "text/x-python",
   "name": "python",
   "nbconvert_exporter": "python",
   "pygments_lexer": "ipython2",
   "version": "2.7.11"
  },
  "widgets": {
   "state": {},
   "version": "1.1.2"
  }
 },
 "nbformat": 4,
 "nbformat_minor": 0
}
