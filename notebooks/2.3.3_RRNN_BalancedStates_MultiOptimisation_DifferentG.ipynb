{
 "cells": [
  {
   "cell_type": "code",
   "execution_count": null,
   "metadata": {
    "collapsed": false
   },
   "outputs": [],
   "source": [
    "%matplotlib inline\n",
    "%load_ext autoreload\n",
    "%autoreload 2"
   ]
  },
  {
   "cell_type": "markdown",
   "metadata": {},
   "source": [
    "### Optimisation du coupling $g$\n",
    "\n",
    "Ici, nous tentons de trouver la valeur de coupling qui satisfait des contraintes de CV et de $\\frac{dF}{dI}$ traduisant un état AI (i.e. l'état balancé) du réseau.\n",
    "\n",
    "L'algorithme d'optimisation est exécuté sur une variation de coupling. Une figure qui nous permet d'estimer la valeur de $g$ maximisant le CV et $\\frac{dF}{dI}$ est alors générée.\n",
    "Par la suite, la valeur de g obtenue serait ensuite fournie au modèle afin de pouvoir évaluer l'excitabilité du RRNN balancé."
   ]
  },
  {
   "cell_type": "code",
   "execution_count": null,
   "metadata": {
    "collapsed": false
   },
   "outputs": [],
   "source": [
    "from RRNN import RRNN\n",
    "import numpy as np\n",
    "import matplotlib.pyplot as plt\n",
    "import pandas as ps\n",
    "import os"
   ]
  },
  {
   "cell_type": "code",
   "execution_count": null,
   "metadata": {
    "collapsed": false
   },
   "outputs": [],
   "source": [
    "n_sim_each, time = 25, 1000\n",
    "n_sim_each, time = 5, 100\n",
    "net = RRNN(time = time, ring=False, c=1, p=.8, i_rate=1, w=.2)"
   ]
  },
  {
   "cell_type": "code",
   "execution_count": null,
   "metadata": {
    "collapsed": false,
    "scrolled": true
   },
   "outputs": [],
   "source": [
    "net.multiOptimisation(np.logspace(-1, 1, 30)*net.g, 'g')"
   ]
  }
 ],
 "metadata": {
  "kernelspec": {
   "display_name": "Python 3",
   "language": "python",
   "name": "python3"
  },
  "language_info": {
   "codemirror_mode": {
    "name": "ipython",
    "version": 3
   },
   "file_extension": ".py",
   "mimetype": "text/x-python",
   "name": "python",
   "nbconvert_exporter": "python",
   "pygments_lexer": "ipython3",
   "version": "3.5.2"
  },
  "widgets": {
   "state": {},
   "version": "1.1.2"
  }
 },
 "nbformat": 4,
 "nbformat_minor": 0
}
