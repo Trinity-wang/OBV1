{
 "cells": [
  {
   "cell_type": "code",
   "execution_count": 1,
   "metadata": {
    "button": false,
    "collapsed": false,
    "deletable": true,
    "new_sheet": false,
    "run_control": {
     "read_only": false
    }
   },
   "outputs": [],
   "source": [
    "%matplotlib inline\n",
    "%load_ext autoreload\n",
    "%autoreload 2\n",
    "import time\n",
    "tag= 'tmp' + str(int(time.time()))"
   ]
  },
  {
   "cell_type": "markdown",
   "metadata": {},
   "source": [
    "### Courbe de taux de décharge en fonction des poids synaptiques\n",
    "\n",
    "Une fois l'effet d'une variation du poids global $W$ observé, des tests plus spécifiques doivent être effectués. Hormis les connexions de la source au réseau, nous rappelons que le modèle comporte quatre projections. Soient E et I, la population excitatrice et inhibitrice l'ensemble des poids entre ces deux populations est : {$W_{EI}$, $W_{EE}$, $W_{IE}$, $W_{II}$}. L'effet des poids de chacune des quatre projections sur le taux de décharge des neurones du réseau est étudié. \n",
    "\n",
    "Pour chaque type de connexion, plusieurs simulations du modèle sont lancés avec différentes valeurs du poids synaptique des connexions de ce type. Et pour chaque simulation, le taux de décharge neuronal moyen des populations E et I est récupéré. Les résultats sont alors affichés dans une courbe de taux de décharge en fonction d'une variation de poids synaptique.\n",
    "\n",
    "Nous remarquons que l'augmentation de $W_{EI}$ comme $W_{IE}$, le poids des connexions latérales, induit une diminution du taux de décharge en sortie du réseau. Aussi, l'augmentation de $W_{EE}$ et $W_{II}$, le poids des connexions récurrentes, provoque l'effet inverse."
   ]
  },
  {
   "cell_type": "code",
   "execution_count": null,
   "metadata": {
    "button": false,
    "collapsed": false,
    "deletable": true,
    "new_sheet": false,
    "run_control": {
     "read_only": false
    }
   },
   "outputs": [
    {
     "name": "stdout",
     "output_type": "stream",
     "text": [
      "CSAConnector: libneurosim support not available in NEST.\n",
      "Falling back on PyNN's default CSAConnector.\n",
      "Please re-compile NEST using --with-libneurosim=PATH\n"
     ]
    }
   ],
   "source": [
    "import numpy as np\n",
    "from RRNN import RRNN\n",
    "\n",
    "n_sim_each, time = 25, 1000\n",
    "net = RRNN(time=time)"
   ]
  },
  {
   "cell_type": "markdown",
   "metadata": {
    "button": false,
    "deletable": true,
    "new_sheet": false,
    "run_control": {
     "read_only": false
    }
   },
   "source": [
    "### Results"
   ]
  },
  {
   "cell_type": "code",
   "execution_count": null,
   "metadata": {
    "button": false,
    "collapsed": false,
    "deletable": true,
    "new_sheet": false,
    "run_control": {
     "read_only": false
    }
   },
   "outputs": [],
   "source": [
    "for zoom in [1.]:#, .3, .1]:\n",
    "    sim_list = [('w_exc_inh', net.sim_params['w_exc_inh']*np.logspace(-zoom, zoom, n_sim_each)),\n",
    "                ('w_exc_exc', net.sim_params['w_exc_exc']*np.logspace(-zoom, zoom, n_sim_each)),\n",
    "                ('w_inh_exc', net.sim_params['w_inh_exc']*np.logspace(-zoom, zoom, n_sim_each)),\n",
    "                ('w_inh_inh', net.sim_params['w_inh_inh']*np.logspace(-zoom, zoom, n_sim_each))\n",
    "    ]\n",
    "\n",
    "    net.paramRole(sim_list, f_rate_max=None, datapath='/tmp/RRNN-weights' + tag)"
   ]
  }
 ],
 "metadata": {
  "kernelspec": {
   "display_name": "Python 2",
   "language": "python",
   "name": "python2"
  },
  "language_info": {
   "codemirror_mode": {
    "name": "ipython",
    "version": 2
   },
   "file_extension": ".py",
   "mimetype": "text/x-python",
   "name": "python",
   "nbconvert_exporter": "python",
   "pygments_lexer": "ipython2",
   "version": "2.7.11"
  },
  "widgets": {
   "state": {},
   "version": "1.1.2"
  }
 },
 "nbformat": 4,
 "nbformat_minor": 0
}
