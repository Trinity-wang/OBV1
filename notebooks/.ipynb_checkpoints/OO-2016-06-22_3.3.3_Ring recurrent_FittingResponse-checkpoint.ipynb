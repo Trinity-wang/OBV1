{
 "cells": [
  {
   "cell_type": "code",
   "execution_count": 13,
   "metadata": {
    "collapsed": false
   },
   "outputs": [
    {
     "name": "stdout",
     "output_type": "stream",
     "text": [
      "The autoreload extension is already loaded. To reload it, use:\n",
      "  %reload_ext autoreload\n"
     ]
    }
   ],
   "source": [
    "%load_ext autoreload\n",
    "%autoreload 2\n",
    "\n",
    "%matplotlib inline\n",
    "import numpy as np\n",
    "from RRNN import RRNN\n",
    "import matplotlib.pyplot as plt\n"
   ]
  },
  {
   "cell_type": "code",
   "execution_count": null,
   "metadata": {
    "collapsed": false,
    "scrolled": false
   },
   "outputs": [],
   "source": [
    "time = 100\n",
    "def rec_net(time=time, b_input=40, b_exc_inh=35, b_exc_exc=4, b_inh_exc=30, b_inh_inh=4):\n",
    "    net = RRNN(time=time, g=2.5, c=1)\n",
    "    net.sim_params['b_input'] = b_input\n",
    "    net.sim_params['b_exc_inh'] = b_exc_inh\n",
    "    net.sim_params['b_exc_exc'] = b_exc_exc\n",
    "    net.sim_params['b_inh_exc'] = b_inh_exc\n",
    "    net.sim_params['b_inh_inh'] = b_inh_inh\n",
    "    return net\n",
    " \n",
    "\n",
    "bw_values = 180*np.logspace(0, -4, 5, base=2)\n",
    "fig, axs = plt.subplots(1, 2, figsize=(8, 4))\n",
    "for i, w in enumerate([0., .32]):\n",
    "    for bw_value in bw_values:\n",
    "        if w>0.:\n",
    "            net = rec_net(time=time)\n",
    "        else:\n",
    "            net = RRNN(time=time, w=w, c=1)\n",
    "        net.sim_params['b_input'] = bw_value\n",
    "        df, spikesE, spikesI = net.model()\n",
    "        theta, fr, result = net.fit_vonMises(spikesE)\n",
    "        #print(result.best_fit.mean())\n",
    "        axs[i].plot(theta*180/np.pi, result.best_fit, label=str(bw_value))\n",
    "        print(result)\n",
    "\n",
    "    axs[i].set_xlabel('orientation')\n",
    "    axs[i].set_ylabel('firing rate')\n",
    "    axs[i].axis('tight')\n",
    "    axs[i].set_ylim(0)\n",
    "axs[0].set_title('feed-forward ring')\n",
    "axs[1].set_title('recurrent ring')\n",
    "plt.legend()\n",
    "plt.show()\n",
    "\n",
    "fig.savefig('../figs/ring_feed-forward_vs_recurrent.png', dpi = 600)"
   ]
  },
  {
   "cell_type": "markdown",
   "metadata": {},
   "source": [
    "## fit en fonction de la bandwidth"
   ]
  },
  {
   "cell_type": "code",
   "execution_count": null,
   "metadata": {
    "collapsed": false,
    "scrolled": true
   },
   "outputs": [],
   "source": [
    "net = RRNN()\n",
    "ws = net.w * np.logspace(-1, 0.5, 30)\n",
    "bw_values = 180*np.logspace(0, -4, 5, base=2)\n",
    "for w in ws:\n",
    "    fig, ax = plt.subplots(figsize=(8,3))\n",
    "    for bw_value in bw_values:\n",
    "        net = RRNN(time=time, w=w, c=1)\n",
    "        net.sim_params['b_input'] = bw_value\n",
    "\n",
    "        df, spikesE, spikesI = net.model()\n",
    "        theta, fr, result = net.fit_vonMises(spikesE)\n",
    "        print(result.best_fit.mean(), result.best_fit.std())\n",
    "        ax.plot(theta*180/np.pi, result.best_fit, label=str(bw_value))\n",
    "\n",
    "    ax.set_title(' w = {}'.format(w))\n",
    "    ax.set_xlabel('orientation')\n",
    "    ax.set_ylabel('firing rate')\n",
    "    ax.axis('tight')\n",
    "    ax.set_ylim(0)\n",
    "    plt.legend()\n",
    "    plt.show()"
   ]
  },
  {
   "cell_type": "code",
   "execution_count": null,
   "metadata": {
    "collapsed": true
   },
   "outputs": [],
   "source": [
    "for w in ws:\n",
    "    bw_values = 180*np.logspace(0, -4, 5, base=2)\n",
    "    fig, ax = plt.subplots(figsize=(8,3))\n",
    "    for bw_value in bw_values:\n",
    "        net = RRNN(time=time, w=w, c=1)\n",
    "        net.sim_params['b_input'] = bw_value\n",
    "        net.sim_params['b_exc_inh'] = 30\n",
    "        net.sim_params['b_exc_exc'] = 5\n",
    "        net.sim_params['b_inh_exc'] = 30\n",
    "        net.sim_params['b_inh_inh'] = 5\n",
    "\n",
    "        df, spikesE, spikesI = net.model()\n",
    "        theta, fr, result = net.fit_vonMises(spikesE)\n",
    "        print(result.best_fit.mean(), result.best_fit.std())\n",
    "        ax.plot(theta*180/np.pi, result.best_fit, label=str(bw_value))\n",
    "\n",
    "    ax.set_title(' w = {}'.format(w))\n",
    "    ax.set_xlabel('orientation')\n",
    "    ax.set_ylabel('firing rate')\n",
    "    ax.axis('tight')\n",
    "    ax.set_ylim(0)\n",
    "    plt.legend()\n",
    "    plt.show()"
   ]
  },
  {
   "cell_type": "code",
   "execution_count": null,
   "metadata": {
    "collapsed": false,
    "scrolled": true
   },
   "outputs": [],
   "source": [
    "for w in ws:\n",
    "    bw_values = 180*np.logspace(0, -4, 5, base=2)\n",
    "    fig, ax = plt.subplots(figsize=(8,3))\n",
    "    for bw_value in bw_values:\n",
    "\n",
    "        net = RRNN(time=time, w=w, c=1)\n",
    "        net.sim_params['b_input'] = bw_value\n",
    "        net.sim_params['b_exc_inh'] = 45\n",
    "        net.sim_params['b_exc_exc'] = 5\n",
    "        net.sim_params['b_inh_exc'] = 5\n",
    "        net.sim_params['b_inh_inh'] = 5\n",
    "\n",
    "        df, spikesE, spikesI = net.model()\n",
    "        theta, fr, result = net.fit_vonMises(spikesE)\n",
    "        print(result.best_fit.mean(), result.best_fit.std())\n",
    "        ax.plot(theta*180/np.pi, result.best_fit, label=str(bw_value))\n",
    "\n",
    "    ax.set_title(' w = {}'.format(w))\n",
    "    ax.set_xlabel('orientation')\n",
    "    ax.set_ylabel('firing rate')\n",
    "    ax.axis('tight')\n",
    "    ax.set_ylim(0)\n",
    "    plt.legend()\n",
    "    plt.show()"
   ]
  },
  {
   "cell_type": "markdown",
   "metadata": {},
   "source": [
    "## fit en fonction du coupling"
   ]
  },
  {
   "cell_type": "code",
   "execution_count": null,
   "metadata": {
    "collapsed": false,
    "scrolled": true
   },
   "outputs": [],
   "source": [
    "net = RRNN()\n",
    "gs = net.g * np.logspace(-1, 1, 9)\n",
    "bw_values = 180*np.logspace(0, -4, 5, base=2)\n",
    "for g in gs:\n",
    "    fig, ax = plt.subplots(figsize=(8,3))\n",
    "    for bw_value in bw_values:\n",
    "        net = RRNN(time=time, g=g, c=1)\n",
    "        net.sim_params['b_input'] = bw_value\n",
    "        net.sim_params['b_exc_inh'] = 15\n",
    "        net.sim_params['b_exc_exc'] = 15\n",
    "        net.sim_params['b_inh_exc'] = 15\n",
    "        net.sim_params['b_inh_inh'] = 15\n",
    "\n",
    "        df, spikesE, spikesI = net.model()\n",
    "        theta, fr, result = net.fit_vonMises(spikesE)\n",
    "        print(result.best_fit.mean(), result.best_fit.std())\n",
    "        ax.plot(theta*180/np.pi, result.best_fit, label=str(bw_value))\n",
    "\n",
    "    ax.set_title(' g = {}'.format(g))\n",
    "    ax.set_xlabel('orientation')\n",
    "    ax.set_ylabel('firing rate')\n",
    "    ax.axis('tight')\n",
    "    ax.set_ylim(0)\n",
    "    plt.legend()\n",
    "    plt.show()"
   ]
  }
 ],
 "metadata": {
  "kernelspec": {
   "display_name": "Python 2",
   "language": "python",
   "name": "python2"
  },
  "language_info": {
   "codemirror_mode": {
    "name": "ipython",
    "version": 2
   },
   "file_extension": ".py",
   "mimetype": "text/x-python",
   "name": "python",
   "nbconvert_exporter": "python",
   "pygments_lexer": "ipython2",
   "version": "2.7.11"
  },
  "widgets": {
   "state": {},
   "version": "1.1.2"
  }
 },
 "nbformat": 4,
 "nbformat_minor": 0
}
