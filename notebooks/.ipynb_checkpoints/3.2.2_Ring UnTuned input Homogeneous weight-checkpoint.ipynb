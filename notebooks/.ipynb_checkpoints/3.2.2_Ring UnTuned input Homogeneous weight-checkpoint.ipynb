{
 "cells": [
  {
   "cell_type": "code",
   "execution_count": 1,
   "metadata": {
    "collapsed": false
   },
   "outputs": [],
   "source": [
    "%matplotlib inline\n",
    "%load_ext autoreload\n",
    "%autoreload 2\n",
    "\n",
    "import numpy as np\n",
    "import matplotlib.pyplot as plt\n",
    "from RRNN import RRNN"
   ]
  },
  {
   "cell_type": "markdown",
   "metadata": {},
   "source": [
    "### Effet de la bandwidth d'entrée dans un ring recurrent dont les poids sont homogènes\n",
    "\n",
    "Nous avons étudié l'effet de la bandwidth du signal présenté en entrée dans le cas où les connexions du réseau, hormis les connexions entre la population source et la population E, sont désactivées. A présent, nous étudions son effet lorsque les poids synaptiques des connexions du ring sont homogènes.\n",
    "\n",
    "Pour cela, nous paramétrons les connexions des quatres différentes projections de sorte qu'elles aient le même poids synaptique. Puis, une simulation du modèle est exécutée pour chaque valeur de bandwidth, et les rasterplots des trois populations sont alors générés.\n",
    "\n",
    "Nous observons que le poids $W$ a un effet sur l'activité ou non de la population inhibitrice, mais n'a aucun effet sur le nombre de neurones actifs dans la population excitatrice."
   ]
  },
  {
   "cell_type": "code",
   "execution_count": 2,
   "metadata": {
    "collapsed": false
   },
   "outputs": [
    {
     "name": "stdout",
     "output_type": "stream",
     "text": [
      "-------- w = 0.0001 --------\n"
     ]
    },
    {
     "ename": "NameError",
     "evalue": "name 'RRNN' is not defined",
     "output_type": "error",
     "traceback": [
      "\u001b[0;31m---------------------------------------------------------------------------\u001b[0m",
      "\u001b[0;31mNameError\u001b[0m                                 Traceback (most recent call last)",
      "\u001b[0;32m<ipython-input-2-43f0f4986ec4>\u001b[0m in \u001b[0;36m<module>\u001b[0;34m()\u001b[0m\n\u001b[1;32m      1\u001b[0m \u001b[0;32mfor\u001b[0m \u001b[0mw\u001b[0m \u001b[0;32min\u001b[0m \u001b[0mnp\u001b[0m\u001b[0;34m.\u001b[0m\u001b[0mlogspace\u001b[0m\u001b[0;34m(\u001b[0m\u001b[0;34m-\u001b[0m\u001b[0;36m4\u001b[0m\u001b[0;34m,\u001b[0m \u001b[0;34m-\u001b[0m\u001b[0;36m0\u001b[0m\u001b[0;34m,\u001b[0m \u001b[0;36m5\u001b[0m\u001b[0;34m)\u001b[0m\u001b[0;34m:\u001b[0m\u001b[0;34m\u001b[0m\u001b[0m\n\u001b[1;32m      2\u001b[0m     \u001b[0;32mprint\u001b[0m\u001b[0;34m(\u001b[0m\u001b[0;34m'-------- w = {} --------'\u001b[0m\u001b[0;34m.\u001b[0m\u001b[0mformat\u001b[0m\u001b[0;34m(\u001b[0m\u001b[0mw\u001b[0m\u001b[0;34m)\u001b[0m\u001b[0;34m)\u001b[0m\u001b[0;34m\u001b[0m\u001b[0m\n\u001b[0;32m----> 3\u001b[0;31m     \u001b[0mnet\u001b[0m \u001b[0;34m=\u001b[0m \u001b[0mRRNN\u001b[0m\u001b[0;34m(\u001b[0m\u001b[0mw\u001b[0m\u001b[0;34m=\u001b[0m\u001b[0mw\u001b[0m\u001b[0;34m)\u001b[0m\u001b[0;34m\u001b[0m\u001b[0m\n\u001b[0m\u001b[1;32m      4\u001b[0m     \u001b[0;31m#net.sim_params['w_exc_exc'] = net.w\u001b[0m\u001b[0;34m\u001b[0m\u001b[0;34m\u001b[0m\u001b[0m\n\u001b[1;32m      5\u001b[0m     \u001b[0;31m#net.sim_params['w_inh_inh'] = net.w\u001b[0m\u001b[0;34m\u001b[0m\u001b[0;34m\u001b[0m\u001b[0m\n",
      "\u001b[0;31mNameError\u001b[0m: name 'RRNN' is not defined"
     ]
    }
   ],
   "source": [
    "for w in np.logspace(-4, -0, 5):\n",
    "    print('-------- w = {} --------'.format(w))\n",
    "    net = RRNN(w=w)\n",
    "    #net.sim_params['w_exc_exc'] = net.w\n",
    "    #net.sim_params['w_inh_inh'] = net.w\n",
    "    #net.sim_params['w_exc_inh'] = net.w\n",
    "    #net.sim_params['w_inh_exc'] = net.w\n",
    "    _ = net.variationRaster('b_input', 180*np.logspace(0, -4, 5, base=2))"
   ]
  }
 ],
 "metadata": {
  "kernelspec": {
   "display_name": "Python 2",
   "language": "python",
   "name": "python2"
  },
  "language_info": {
   "codemirror_mode": {
    "name": "ipython",
    "version": 2
   },
   "file_extension": ".py",
   "mimetype": "text/x-python",
   "name": "python",
   "nbconvert_exporter": "python",
   "pygments_lexer": "ipython2",
   "version": "2.7.11"
  },
  "widgets": {
   "state": {},
   "version": "1.1.2"
  }
 },
 "nbformat": 4,
 "nbformat_minor": 0
}
