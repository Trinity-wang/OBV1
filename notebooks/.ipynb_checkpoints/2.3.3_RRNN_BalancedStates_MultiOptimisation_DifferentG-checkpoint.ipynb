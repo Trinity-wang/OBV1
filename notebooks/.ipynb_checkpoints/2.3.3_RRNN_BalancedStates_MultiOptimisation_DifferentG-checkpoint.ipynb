{
 "cells": [
  {
   "cell_type": "code",
   "execution_count": 1,
   "metadata": {
    "collapsed": false
   },
   "outputs": [],
   "source": [
    "%matplotlib inline\n",
    "%load_ext autoreload\n",
    "%autoreload 2"
   ]
  },
  {
   "cell_type": "markdown",
   "metadata": {},
   "source": [
    "### Optimisation du coupling $g$\n",
    "\n",
    "Ici, nous tentons de trouver la valeur de coupling qui satisfait des contraintes de CV et de $\\frac{dF}{dI}$ traduisant un état AI (i.e. l'état balancé) du réseau.\n",
    "\n",
    "L'algorithme d'optimisation est exécuté sur une variation de coupling. Une figure qui nous permet d'estimer la valeur de $g$ maximisant le CV et $\\frac{dF}{dI}$ est alors générée.\n",
    "La valeur de g obtenue est ensuite fournie au modèle afin de pouvoir évaluer l'excitabilité d'un RRNN balancé."
   ]
  },
  {
   "cell_type": "code",
   "execution_count": 2,
   "metadata": {
    "collapsed": false
   },
   "outputs": [
    {
     "name": "stdout",
     "output_type": "stream",
     "text": [
      "CSAConnector: libneurosim support not available in NEST.\n",
      "Falling back on PyNN's default CSAConnector.\n",
      "Please re-compile NEST using --with-libneurosim=PATH\n"
     ]
    }
   ],
   "source": [
    "from RRNN import RRNN\n",
    "import numpy as np\n",
    "import matplotlib.pyplot as plt\n",
    "import pandas as ps\n",
    "import os"
   ]
  },
  {
   "cell_type": "code",
   "execution_count": 3,
   "metadata": {
    "collapsed": false
   },
   "outputs": [],
   "source": [
    "net = RRNN(time = 1000)"
   ]
  },
  {
   "cell_type": "code",
   "execution_count": null,
   "metadata": {
    "collapsed": false,
    "scrolled": true
   },
   "outputs": [],
   "source": [
    "net.multiOptimisation(np.logspace(-1, 1, 30)*net.w, 'g')"
   ]
  },
  {
   "cell_type": "code",
   "execution_count": null,
   "metadata": {
    "collapsed": true
   },
   "outputs": [],
   "source": []
  }
 ],
 "metadata": {
  "kernelspec": {
   "display_name": "Python 2",
   "language": "python",
   "name": "python2"
  },
  "language_info": {
   "codemirror_mode": {
    "name": "ipython",
    "version": 2
   },
   "file_extension": ".py",
   "mimetype": "text/x-python",
   "name": "python",
   "nbconvert_exporter": "python",
   "pygments_lexer": "ipython2",
   "version": "2.7.11"
  },
  "widgets": {
   "state": {},
   "version": "1.1.2"
  }
 },
 "nbformat": 4,
 "nbformat_minor": 0
}
