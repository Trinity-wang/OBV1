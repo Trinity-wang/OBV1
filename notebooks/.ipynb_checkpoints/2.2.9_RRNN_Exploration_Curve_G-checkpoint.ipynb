{
 "cells": [
  {
   "cell_type": "code",
   "execution_count": 1,
   "metadata": {
    "button": false,
    "collapsed": false,
    "new_sheet": false,
    "run_control": {
     "read_only": false
    }
   },
   "outputs": [],
   "source": [
    "%matplotlib inline\n",
    "%load_ext autoreload\n",
    "%autoreload 2\n",
    "import time\n",
    "tag= 'tmp' + str(int(time.time()))"
   ]
  },
  {
   "cell_type": "markdown",
   "metadata": {},
   "source": [
    "## Les états du réseau\n",
    "\n",
    "Brunel décrit quatre états du RRNN :\n",
    "\n",
    "- Synchronous Regular : Les activations neuronales sont synchrones et les intervalles inter-décharges pour chaque neurone sont identiques\n",
    "- Synchronous Irregular : Les activations neuronales sont synchrones et les intervalles inter-décharges sont différents\n",
    "- Asynchronous Regular : Les neurones ne s'activent pas en même temps et les intervalles inter-décharges sont identiques\n",
    "- Asynchronous Irregular : Les neurones ne s'activent pas en même temps et les intervalles inter-décharges sont différents\n",
    "\n",
    "Il fait également référence à un paramètre de coupling $g$, qui régulerait le poids de l'inhibition par rapport à celui de l'excitation. La modification d'un tel paramètre permettrait une transition entre les différents états du réseau <cite data-cite=\"Brunel2000\">(Brunel, 2000)</cite>.\n",
    "\n",
    "Nous faisons alors des suppositions sur la définition de $g$, et nous observons l'effet de $g$ sur le comportement du RRNN, pour chacune de ces suppositions.\n",
    "\n",
    "### Définir le coupling\n",
    "\n",
    "La réelle définition du paramètre de coupling n'est pas évidente à appréhender. La seule certitude que nous avons est que le paramètre de coupling doit être un ratio de certains poids par rapport au poids global $W$. C'est pourquoi différents ratio de poids synaptiques pouvant correspondre à $g$ sont ici testés, à savoir :\n",
    "\n",
    "- $g = W_{IE}, W_{II} / W$\n",
    "- $g = W_{IE}, W_{EI} / W$\n",
    "- $g = W_{EI}, W_{II} / W$\n",
    "\n",
    "Chacune des trois définitions possibles de $g$ correspond à des variations de poids de certaines projections par rapport à d'autres. Aussi, il a précédemment été fait mention d'une méthode permettant d'obtenir une courbe de taux de décharge en fonction de la variation de paramètre.\n",
    "Une méthode similaire est ici utilisée, mais cette fois, les taux de décharge sont calculés à partir d'une covariation de deux paramètres de poids synaptique et ce, pour chacune des définitions de $g$.\n",
    "\n",
    "Il semble que si $g$ est défini par le ratio du poids des connexions latérales par rapport à $W$,\n",
    "l'activité du réseau diminue quand $g$ croît. Ce qui n'est pas sans rappeler les observations effectuées du taux de décharge lors de la manipulation des poids des différentes projections internes au réseau.\n",
    "\n",
    "### Rôle du coupling\n",
    "\n",
    "Ainsi, faire varier $g$ devrait provoquer une transition de phase des états d'activité du réseau. Pour observer un tel comportement, la mesure du taux de décharge neuronal, bien qu'elle aie l'avantage d'amener à des observations quantitatives, n'est pas suffisamment informative. C'est pourquoi une méthode qualitative, mais néammoins plus pertinente dans ce contexte, comme la génération de rasterplot, est utilisée.\n",
    "\n",
    "Une simulation du RRNN est exécutée pour chaque valeur prise par $g$. Les spikes des neurones des populations source, excitatrice et inhibitrice sont récupérés et affichés dans le rasterplot. Ainsi, il est possible de savoir quels neurones ont déchargés et quand.  \n",
    "\n",
    "Un changement brusque du comportement du réseau est observé lorsque $g$ dépasse une certaine valeur. Par la suite, l'évolution de l'état du réseau se fait de manière continue."
   ]
  },
  {
   "cell_type": "code",
   "execution_count": null,
   "metadata": {
    "button": false,
    "collapsed": false,
    "deletable": true,
    "new_sheet": false,
    "run_control": {
     "read_only": false
    }
   },
   "outputs": [
    {
     "name": "stdout",
     "output_type": "stream",
     "text": [
      "CSAConnector: libneurosim support not available in NEST.\n",
      "Falling back on PyNN's default CSAConnector.\n",
      "Please re-compile NEST using --with-libneurosim=PATH\n"
     ]
    }
   ],
   "source": [
    "import numpy as np\n",
    "import matplotlib.pyplot as plt\n",
    "import pandas as ps\n",
    "from RRNN import RRNN\n",
    "\n",
    "n_sim_each, time = 15, 1000\n",
    "n_sim_each, time = 5, 100\n",
    "net = RRNN(time=time)\n",
    "\n",
    "net.setParams(['w_exc_inh', 'w_exc_exc', 'w_inh_exc', 'w_inh_inh'],\n",
    "              [net.w, net.w, net.w, net.w])"
   ]
  },
  {
   "cell_type": "markdown",
   "metadata": {
    "button": false,
    "deletable": true,
    "new_sheet": false,
    "run_control": {
     "read_only": false
    }
   },
   "source": [
    "### Results :"
   ]
  },
  {
   "cell_type": "markdown",
   "metadata": {},
   "source": [
    "#### G = Wie, Wii / W  "
   ]
  },
  {
   "cell_type": "code",
   "execution_count": null,
   "metadata": {
    "button": false,
    "collapsed": false,
    "deletable": true,
    "new_sheet": false,
    "run_control": {
     "read_only": false
    }
   },
   "outputs": [],
   "source": [
    "net = RRNN(time=time)\n",
    "for zoom in [1., .3]:\n",
    "    net.covariation_Curve('w_inh_exc', 'w_inh_inh',\n",
    "                      net.w * net.g * np.logspace(-zoom, zoom, n_sim_each),\n",
    "                      datapath='/tmp/OB-V1_data/RRNN-G0' + tag + str(zoom * 10))"
   ]
  },
  {
   "cell_type": "code",
   "execution_count": null,
   "metadata": {
    "collapsed": false
   },
   "outputs": [],
   "source": [
    "for g in np.logspace(-1, 1, n_sim_each):\n",
    "    net = RRNN(g=g, time=time)\n",
    "    net.sim_params['w_exc_inh'] = net.w\n",
    "    net.sim_params['w_inh_exc'] = net.w * net.g\n",
    "    net.sim_params['w_exc_exc'] = net.w\n",
    "    net.sim_params['w_inh_inh'] = net.w * net.g\n",
    "    df, spikesE, spikesI = net.model()\n",
    "    net.Raster(df, spikesE, spikesI, input=True, title='coupling = {}'.format(g))\n",
    "    plt.show()"
   ]
  },
  {
   "cell_type": "markdown",
   "metadata": {},
   "source": [
    "#### G = Wie, Wei / W"
   ]
  },
  {
   "cell_type": "code",
   "execution_count": null,
   "metadata": {
    "button": false,
    "collapsed": false,
    "new_sheet": false,
    "run_control": {
     "read_only": false
    }
   },
   "outputs": [],
   "source": [
    "net = RRNN(time=time)\n",
    "for zoom in [1., .3]:\n",
    "    net.covariation_Curve('w_inh_exc', 'w_exc_inh',\n",
    "                      net.w * net.g * np.logspace(-zoom, zoom, n_sim_each),\n",
    "                      datapath='/tmp/OB-V1_data/RRNN-G1' + tag + str(zoom * 10))"
   ]
  },
  {
   "cell_type": "code",
   "execution_count": null,
   "metadata": {
    "collapsed": true
   },
   "outputs": [],
   "source": [
    "for g in np.logspace(-1, 1, n_sim_each):\n",
    "    net = RRNN(g=g, time=time)\n",
    "    net.sim_params['w_exc_inh'] = net.w * net.g\n",
    "    net.sim_params['w_inh_exc'] = net.w * net.g\n",
    "    net.sim_params['w_exc_exc'] = net.w\n",
    "    net.sim_params['w_inh_inh'] = net.w \n",
    "    df, spikesE, spikesI = net.model()\n",
    "    net.Raster(df, spikesE, spikesI, input=True, title='coupling = {}'.format(g))\n",
    "    plt.show()"
   ]
  },
  {
   "cell_type": "markdown",
   "metadata": {},
   "source": [
    "#### G = Wei, Wii / W"
   ]
  },
  {
   "cell_type": "code",
   "execution_count": null,
   "metadata": {
    "button": false,
    "collapsed": false,
    "new_sheet": false,
    "run_control": {
     "read_only": false
    }
   },
   "outputs": [],
   "source": [
    "net = RRNN(time=time)\n",
    "for zoom in [1., .3]:\n",
    "    net.covariation_Curve('w_exc_inh', 'w_inh_inh',\n",
    "                      net.w * net.g * np.logspace(-zoom, zoom, n_sim_each),\n",
    "                      datapath='/tmp/OB-V1_data/RRNN-G2' + tag + str(zoom * 10))"
   ]
  },
  {
   "cell_type": "code",
   "execution_count": null,
   "metadata": {
    "collapsed": true
   },
   "outputs": [],
   "source": [
    "for g in np.logspace(-1, 1, n_sim_each):\n",
    "    net = RRNN(g=g, time=time)\n",
    "    net.sim_params['w_exc_inh'] = net.w * net.g\n",
    "    net.sim_params['w_inh_exc'] = net.w \n",
    "    net.sim_params['w_exc_exc'] = net.w\n",
    "    net.sim_params['w_inh_inh'] = net.w * net.g\n",
    "    df, spikesE, spikesI = net.model()\n",
    "    net.Raster(df, spikesE, spikesI, input=True, title='coupling = {}'.format(g))\n",
    "    plt.show()"
   ]
  }
 ],
 "metadata": {
  "kernelspec": {
   "display_name": "Python 2",
   "language": "python",
   "name": "python2"
  },
  "language_info": {
   "codemirror_mode": {
    "name": "ipython",
    "version": 2
   },
   "file_extension": ".py",
   "mimetype": "text/x-python",
   "name": "python",
   "nbconvert_exporter": "python",
   "pygments_lexer": "ipython2",
   "version": "2.7.11"
  },
  "widgets": {
   "state": {},
   "version": "1.1.2"
  }
 },
 "nbformat": 4,
 "nbformat_minor": 0
}
