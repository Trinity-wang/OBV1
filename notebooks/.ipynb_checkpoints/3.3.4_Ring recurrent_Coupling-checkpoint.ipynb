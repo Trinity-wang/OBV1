{
 "cells": [
  {
   "cell_type": "code",
   "execution_count": 1,
   "metadata": {
    "collapsed": false
   },
   "outputs": [],
   "source": [
    "%load_ext autoreload\n",
    "%autoreload 2\n",
    "\n",
    "%matplotlib inline\n",
    "import numpy as np\n",
    "import matplotlib.pyplot as plt"
   ]
  },
  {
   "cell_type": "markdown",
   "metadata": {},
   "source": [
    "### Effet du coupling $g$\n",
    "\n",
    "Ici, nous étudions l'effet d'une variation du coupling $g$ sur l'activité neuronale au sein d'un ring, pour observer d'éventuels effets sur sa sélectivité à l'orientation.\n",
    "\n",
    "D'une manière analogue à l'expérience précédente, nous exécutons des simulations pour une valeur de $g$ et nous observons qualitativement l'activité neuronale des trois populations.\n",
    "\n"
   ]
  },
  {
   "cell_type": "code",
   "execution_count": 2,
   "metadata": {
    "collapsed": false,
    "scrolled": true
   },
   "outputs": [
    {
     "name": "stdout",
     "output_type": "stream",
     "text": [
      "CSAConnector: libneurosim support not available in NEST.\n",
      "Falling back on PyNN's default CSAConnector.\n",
      "Please re-compile NEST using --with-libneurosim=PATH\n"
     ]
    },
    {
     "ename": "TypeError",
     "evalue": "Raster() takes at least 4 arguments (3 given)",
     "output_type": "error",
     "traceback": [
      "\u001b[0;31m---------------------------------------------------------------------------\u001b[0m",
      "\u001b[0;31mTypeError\u001b[0m                                 Traceback (most recent call last)",
      "\u001b[0;32m<ipython-input-2-f54a98e0a18c>\u001b[0m in \u001b[0;36m<module>\u001b[0;34m()\u001b[0m\n\u001b[1;32m     13\u001b[0m \u001b[0;34m\u001b[0m\u001b[0m\n\u001b[1;32m     14\u001b[0m     _ = net.Raster(title='--------- coupling = {} ---------'.format(str(g)),\n\u001b[0;32m---> 15\u001b[0;31m                   markersize=markersize)\n\u001b[0m\u001b[1;32m     16\u001b[0m \u001b[0;34m\u001b[0m\u001b[0m\n\u001b[1;32m     17\u001b[0m     \u001b[0mplt\u001b[0m\u001b[0;34m.\u001b[0m\u001b[0mshow\u001b[0m\u001b[0;34m(\u001b[0m\u001b[0;34m)\u001b[0m\u001b[0;34m\u001b[0m\u001b[0m\n",
      "\u001b[0;31mTypeError\u001b[0m: Raster() takes at least 4 arguments (3 given)"
     ]
    },
    {
     "data": {
      "image/png": "[encoded data removed]",
      "text/plain": [
       "<matplotlib.figure.Figure at 0x107f10a90>"
      ]
     },
     "metadata": {},
     "output_type": "display_data"
    }
   ],
   "source": [
    "from RRNN import RRNN\n",
    "from pyNN.utility.plotting import Figure, Panel\n",
    "markersize = .5\n",
    "\n",
    "time = 100\n",
    "net = RRNN()\n",
    "gs = net.g * np.logspace(-1, 1, 9)\n",
    "for g in gs:\n",
    "    fig, ax = plt.subplots(figsize=(8,8))\n",
    "    net = RRNN(time=time, g=g)\n",
    "    \n",
    "    df, spikesE, spikesI = net.model()\n",
    "    \n",
    "    _ = net.Raster(df, spikesE, spikesI,\n",
    "                   title='--------- coupling = {} ---------'.format(str(g)),\n",
    "                   markersize=markersize)\n",
    "\n",
    "    plt.show()"
   ]
  }
 ],
 "metadata": {
  "kernelspec": {
   "display_name": "Python 2",
   "language": "python",
   "name": "python2"
  },
  "language_info": {
   "codemirror_mode": {
    "name": "ipython",
    "version": 2
   },
   "file_extension": ".py",
   "mimetype": "text/x-python",
   "name": "python",
   "nbconvert_exporter": "python",
   "pygments_lexer": "ipython2",
   "version": "2.7.11"
  },
  "widgets": {
   "state": {},
   "version": "1.1.2"
  }
 },
 "nbformat": 4,
 "nbformat_minor": 0
}
