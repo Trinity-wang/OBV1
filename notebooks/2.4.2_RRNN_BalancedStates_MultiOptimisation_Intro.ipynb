{
 "cells": [
  {
   "cell_type": "markdown",
   "metadata": {},
   "source": [
    "### L'état équilibré\n",
    "\n",
    "Nous avons précédemment évoqué les différents états de l'activité du RRNN.\n",
    "L'état équilibré que nous recherchons correspond à l'état Asynchronous Irregular. Il correspond à un équilibre entre l'excitation et l'inhibition. Un tel équilibre a fait l'objet d'études théoriques qui montrent qu'un RRNN balancé produit une activité bruitée, proche de celle pouvant être générée par un processus de Poisson. Aussi, la réponse d'un RRNN équilibré à une entrée est linéaire et plus rapide que l'intégration d'information pouvant être effectuée par un seul neurone <cite data-cite=\"Brunel2000\">(Brunel, 2000)</cite>. Ces propriétés sont intéressantes pour la modélisation de réseaux de neurones corticaux, tels que le cortex visuel primaire. En effet, nous rappelons que la sélectivité à l'orientation au sein des pinwheels et chez le rat est possible si le réseau est dans cet état. \n",
    "\n",
    "Maintenant que des outils ont été développés pour observer des variations de comportement du RRNN, la recherche d'états balancés du réseau peut débuter. Nous introduisons à présent des indices utiles pour caractériser des aspects de l'activité :\n",
    "\n",
    "- $\\frac{dF}{dI}$ est la dérivée du taux de décharge en sortie par rapport au taux de décharge de la population source. Cet indice correspond au gain du réseau produit par les propriétés cellulaires et les propriétés des connexions entre les populations.\n",
    "- $CV$ est le coefficient de variation de l'intervalle inter-décharge. Il est défini par le ratio de l'écart-type de la distribution des intervalles sur leur moyenne. C'est une mesure de la variabilité des intervalles inter-décharges.\n",
    "\n",
    "$$\n",
    "CV = \\frac{\\sqrt{ \\langle T^2 \\rangle - \\langle T \\rangle ^2} }{\\langle T \\rangle}\n",
    "$$\n",
    "\n",
    "Nous implémentons également une méthode d'optimisation permettant d'obtenir des paramètres de poids et de coupling satisfaisant certaines contraintes. Les indices évoqués plus haut sont autant de contraintes devant être satisfaites."
   ]
  }
 ],
 "metadata": {
  "kernelspec": {
   "display_name": "Python 2",
   "language": "python",
   "name": "python2"
  },
  "language_info": {
   "codemirror_mode": {
    "name": "ipython",
    "version": 2
   },
   "file_extension": ".py",
   "mimetype": "text/x-python",
   "name": "python",
   "nbconvert_exporter": "python",
   "pygments_lexer": "ipython2",
   "version": "2.7.12"
  },
  "widgets": {
   "state": {},
   "version": "1.1.2"
  }
 },
 "nbformat": 4,
 "nbformat_minor": 0
}
