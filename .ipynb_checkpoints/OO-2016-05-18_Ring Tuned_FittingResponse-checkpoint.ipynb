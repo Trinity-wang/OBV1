{
 "cells": [
  {
   "cell_type": "markdown",
   "metadata": {},
   "source": [
    "# Un anneau pour les gouverner tous...(enfin toutes)"
   ]
  },
  {
   "cell_type": "markdown",
   "metadata": {},
   "source": [
    "http://neuralensemble.org/docs/PyNN/reference/connectors.html#pyNN.connectors.DistanceDependentProbabilityConnector\n",
    "\n",
    "http://neuralensemble.org/trac/PyNN/wiki/HighLevelAPI\n"
   ]
  },
  {
   "cell_type": "code",
   "execution_count": 2,
   "metadata": {
    "collapsed": false
   },
   "outputs": [],
   "source": [
    "%load_ext autoreload\n",
    "%autoreload 2"
   ]
  },
  {
   "cell_type": "markdown",
   "metadata": {},
   "source": [
    "http://docs.scipy.org/doc/scipy/reference/special.html#module-scipy.special"
   ]
  },
  {
   "cell_type": "code",
   "execution_count": 3,
   "metadata": {
    "collapsed": false
   },
   "outputs": [
    {
     "name": "stdout",
     "output_type": "stream",
     "text": [
      "CSAConnector: libneurosim support not available in NEST.\n",
      "Falling back on PyNN's default CSAConnector.\n",
      "Please re-compile NEST using --with-libneurosim=PATH\n",
      "/usr/local/lib/python2.7/site-packages/matplotlib/__init__.py:1318: UserWarning:  This call to matplotlib.use() has no effect\n",
      "because the backend has already been chosen;\n",
      "matplotlib.use() must be called *before* pylab, matplotlib.pyplot,\n",
      "or matplotlib.backends is imported for the first time.\n",
      "\n",
      "/usr/local/lib/python2.7/site-packages/NeuroTools/__init__.py:130: DependencyWarning: ** interval ** package is not installed.\n",
      "To have functions using interval please install the package.\n",
      "website : http://pypi.python.org/pypi/interval/1.0.0\n",
      "\n"
     ]
    }
   ],
   "source": [
    "%matplotlib inline\n",
    "import numpy as np\n",
    "from RRNN import RRNN\n",
    "import matplotlib.pyplot as plt\n",
    "import lmfit\n",
    "from scipy.special import iv"
   ]
  },
  {
   "cell_type": "markdown",
   "metadata": {},
   "source": [
    "## Learning fitting\n",
    "https://python4mpia.github.io/fitting_data/introduction.html#introduction"
   ]
  },
  {
   "cell_type": "code",
   "execution_count": 4,
   "metadata": {
    "collapsed": true
   },
   "outputs": [],
   "source": [
    "np.random.seed(1)\n",
    "data = np.random.normal(0., 1., 10)"
   ]
  },
  {
   "cell_type": "code",
   "execution_count": 5,
   "metadata": {
    "collapsed": false
   },
   "outputs": [
    {
     "name": "stdout",
     "output_type": "stream",
     "text": [
      "/usr/local/lib/python2.7/site-packages/matplotlib/collections.py:590: FutureWarning: elementwise comparison failed; returning scalar instead, but in the future will perform elementwise comparison\n"
     ]
    },
    {
     "data": {
      "image/png": "[encoded data removed]",
      "text/plain": [
       "<matplotlib.figure.Figure at 0x116127290>"
      ]
     },
     "metadata": {},
     "output_type": "display_data"
    }
   ],
   "source": [
    "a_min = -2.5\n",
    "a_max = 2.5\n",
    "\n",
    "b_min = -1.\n",
    "b_max = 1.\n",
    "\n",
    "steps = 51\n",
    "\n",
    "grid = np.zeros([steps, steps])\n",
    "\n",
    "for s1 in range(steps):\n",
    "    for s2 in range(steps):\n",
    "        a = a_min + (a_max - a_min)*float(s1)/float(steps-1)\n",
    "        b = b_min + (b_max - b_min)*float(s2)/float(steps-1)\n",
    "        \n",
    "        chi2 = 0.\n",
    "        for n in range(len(data)):\n",
    "            residual = (data[n] - a - n*b)\n",
    "            chi2     = chi2 + residual**2\n",
    "        grid[steps-1-s2,s1] = chi2\n",
    "\n",
    "plt.figure(1, figsize=(8,3))\n",
    "mini = np.min(grid)\n",
    "image = plt.imshow(grid, vmin=mini, vmax=mini+20.0,\n",
    "                   extent=[a_min, a_max, b_min, b_max])\n",
    "plt.colorbar(image)\n",
    "plt.xlabel(r'$a$', fontsize=16)\n",
    "plt.ylabel(r'$b$', fontsize=16)\n",
    "plt.show()"
   ]
  },
  {
   "cell_type": "markdown",
   "metadata": {},
   "source": [
    "https://lmfit.github.io/lmfit-py/model.html#module-model"
   ]
  },
  {
   "cell_type": "code",
   "execution_count": 6,
   "metadata": {
    "collapsed": true
   },
   "outputs": [],
   "source": [
    "def gaussian(x, amp, cen, wid):\n",
    "    return amp * np.exp(-(x-cen)**2/wid)"
   ]
  },
  {
   "cell_type": "code",
   "execution_count": 7,
   "metadata": {
    "collapsed": true
   },
   "outputs": [],
   "source": [
    "from scipy.optimize import curve_fit"
   ]
  },
  {
   "cell_type": "code",
   "execution_count": 8,
   "metadata": {
    "collapsed": false
   },
   "outputs": [
    {
     "name": "stdout",
     "output_type": "stream",
     "text": [
      "[ 2.2191112   0.29805105  1.59300443]\n"
     ]
    }
   ],
   "source": [
    "x = np.linspace(-10, 10)\n",
    "y = gaussian(x, 2.33, 0.21, 1.51) + np.random.normal(0, .2, len(x))\n",
    "init_vals = [1, 0, 1]\n",
    "best_vals, covar = curve_fit(gaussian, x, y, p0=init_vals)\n",
    "print best_vals"
   ]
  },
  {
   "cell_type": "code",
   "execution_count": 9,
   "metadata": {
    "collapsed": true
   },
   "outputs": [],
   "source": [
    "from lmfit import Model"
   ]
  },
  {
   "cell_type": "code",
   "execution_count": 10,
   "metadata": {
    "collapsed": false
   },
   "outputs": [
    {
     "data": {
      "text/plain": [
       "['amp', 'cen', 'wid']"
      ]
     },
     "execution_count": 10,
     "metadata": {},
     "output_type": "execute_result"
    }
   ],
   "source": [
    "gmod = Model(gaussian)\n",
    "gmod.param_names"
   ]
  },
  {
   "cell_type": "code",
   "execution_count": 11,
   "metadata": {
    "collapsed": false
   },
   "outputs": [
    {
     "data": {
      "text/plain": [
       "['x']"
      ]
     },
     "execution_count": 11,
     "metadata": {},
     "output_type": "execute_result"
    }
   ],
   "source": [
    "gmod.independent_vars"
   ]
  },
  {
   "cell_type": "code",
   "execution_count": 12,
   "metadata": {
    "collapsed": true
   },
   "outputs": [],
   "source": [
    "params = gmod.make_params(cen=5, amp=200, wid=1)"
   ]
  },
  {
   "cell_type": "code",
   "execution_count": 13,
   "metadata": {
    "collapsed": true
   },
   "outputs": [],
   "source": [
    "x = np.linspace(0, 10, 201)\n",
    "y = gmod.eval(x=x, amp=10, cen=6.2, wid=0.75)"
   ]
  },
  {
   "cell_type": "code",
   "execution_count": 14,
   "metadata": {
    "collapsed": true
   },
   "outputs": [],
   "source": [
    "result = gmod.fit(y, x=x, amp=5, cen=5, wid=1)"
   ]
  },
  {
   "cell_type": "code",
   "execution_count": 15,
   "metadata": {
    "collapsed": false
   },
   "outputs": [
    {
     "name": "stdout",
     "output_type": "stream",
     "text": [
      "[[Model]]\n",
      "    Model(gaussian)\n",
      "[[Fit Statistics]]\n",
      "    # function evals   = 41\n",
      "    # data points      = 201\n",
      "    # variables        = 3\n",
      "    chi-square         = 0.000\n",
      "    reduced chi-square = 0.000\n",
      "    Akaike info crit   = -inf\n",
      "    Bayesian info crit = -inf\n",
      "[[Variables]]\n",
      "    amp:   10         +/- 0        (0.00%) (init= 5)\n",
      "    cen:   6.20000000 +/- 0        (0.00%) (init= 5)\n",
      "    wid:   0.75000000 +/- 0        (0.00%) (init= 1)\n",
      "[[Correlations]] (unreported correlations are <  0.100)\n",
      "\n"
     ]
    }
   ],
   "source": [
    "print(result.fit_report())"
   ]
  },
  {
   "cell_type": "code",
   "execution_count": 16,
   "metadata": {
    "collapsed": false
   },
   "outputs": [
    {
     "data": {
      "image/png": "[encoded data removed]",
      "text/plain": [
       "<matplotlib.figure.Figure at 0x115aaf050>"
      ]
     },
     "metadata": {},
     "output_type": "display_data"
    }
   ],
   "source": [
    "plt.plot(x, y, 'bo')\n",
    "plt.plot(x, result.init_fit, 'k--')\n",
    "plt.plot(x, result.best_fit, 'r-')\n",
    "plt.show()"
   ]
  },
  {
   "cell_type": "markdown",
   "metadata": {},
   "source": [
    "## Fitting network response with Von Mises"
   ]
  },
  {
   "cell_type": "code",
   "execution_count": 126,
   "metadata": {
    "collapsed": false
   },
   "outputs": [],
   "source": [
    "net = RRNN(time=1000, w=0.03)\n",
    "net.sim_params['b_input'] = 15.\n"
   ]
  },
  {
   "cell_type": "code",
   "execution_count": 127,
   "metadata": {
    "collapsed": false
   },
   "outputs": [],
   "source": [
    "theta = net.sim_params['angle_input']*np.pi/180\n",
    "df, spikesE, spikesI = net.model()"
   ]
  },
  {
   "cell_type": "code",
   "execution_count": 128,
   "metadata": {
    "collapsed": false
   },
   "outputs": [],
   "source": [
    "fr = np.zeros(len(spikesE.spiketrains))\n",
    "for i, st in enumerate(spikesE.spiketrains): \n",
    "    fr[i] = np.float(len (st))"
   ]
  },
  {
   "cell_type": "code",
   "execution_count": 129,
   "metadata": {
    "collapsed": true
   },
   "outputs": [],
   "source": [
    "def mises(x, sigma, amp, m=np.pi/2):\n",
    "    kappa = 1. / sigma**2\n",
    "    exp_c = np.exp(np.cos(2*(x-m))*kappa)\n",
    "    return amp * exp_c/(2*np.pi*iv(0, kappa))"
   ]
  },
  {
   "cell_type": "code",
   "execution_count": 130,
   "metadata": {
    "collapsed": false
   },
   "outputs": [
    {
     "data": {
      "text/plain": [
       "['sigma', 'amp', 'm']"
      ]
     },
     "execution_count": 130,
     "metadata": {},
     "output_type": "execute_result"
    }
   ],
   "source": [
    "from lmfit import Model\n",
    "vonM_mod = Model(mises)\n",
    "vonM_mod.param_names"
   ]
  },
  {
   "cell_type": "code",
   "execution_count": 131,
   "metadata": {
    "collapsed": false
   },
   "outputs": [
    {
     "data": {
      "text/plain": [
       "['x']"
      ]
     },
     "execution_count": 131,
     "metadata": {},
     "output_type": "execute_result"
    }
   ],
   "source": [
    "vonM_mod.independent_vars"
   ]
  },
  {
   "cell_type": "code",
   "execution_count": 132,
   "metadata": {
    "collapsed": false
   },
   "outputs": [],
   "source": [
    "y = np.array(fr)\n",
    "x = np.linspace(0, np.pi, len(spikesE.spiketrains))"
   ]
  },
  {
   "cell_type": "raw",
   "metadata": {
    "collapsed": false
   },
   "source": [
    "y"
   ]
  },
  {
   "cell_type": "code",
   "execution_count": 133,
   "metadata": {
    "collapsed": false
   },
   "outputs": [],
   "source": [
    "result = vonM_mod.fit(y, x = x, sigma=np.pi/2, amp=y.mean(), m=np.pi/2)"
   ]
  },
  {
   "cell_type": "code",
   "execution_count": 134,
   "metadata": {
    "collapsed": false
   },
   "outputs": [
    {
     "name": "stdout",
     "output_type": "stream",
     "text": [
      "[[Model]]\n",
      "    Model(mises)\n",
      "[[Fit Statistics]]\n",
      "    # function evals   = 57\n",
      "    # data points      = 540\n",
      "    # variables        = 3\n",
      "    chi-square         = 30260.342\n",
      "    reduced chi-square = 56.351\n",
      "    Akaike info crit   = 2183.061\n",
      "    Bayesian info crit = 2195.936\n",
      "[[Variables]]\n",
      "    sigma:  -1.02780611 +/- 0.051042 (4.97%) (init= 1.570796)\n",
      "    amp:     43.3134359 +/- 2.008525 (4.64%) (init= 7.261111)\n",
      "    m:       1.60228349 +/- 0.035157 (2.19%) (init= 1.570796)\n",
      "[[Correlations]] (unreported correlations are <  0.100)\n",
      "    C(sigma, amp)                = -0.511 \n",
      "\n"
     ]
    }
   ],
   "source": [
    "print(result.fit_report())"
   ]
  },
  {
   "cell_type": "code",
   "execution_count": 135,
   "metadata": {
    "collapsed": false
   },
   "outputs": [
    {
     "data": {
      "image/png": "[encoded data removed]",
      "text/plain": [
       "<matplotlib.figure.Figure at 0x10e89f250>"
      ]
     },
     "metadata": {},
     "output_type": "display_data"
    }
   ],
   "source": [
    "plt.plot(x, y, 'bo')\n",
    "#plt.plot(x, result.init_fit, 'k--')\n",
    "plt.plot(x, result.best_fit, 'r-')\n",
    "plt.show()"
   ]
  },
  {
   "cell_type": "markdown",
   "metadata": {},
   "source": [
    "## fit en fonction de la bandwidth"
   ]
  },
  {
   "cell_type": "code",
   "execution_count": 5,
   "metadata": {
    "collapsed": false,
    "scrolled": true
   },
   "outputs": [],
   "source": [
    "bw_values = 180*np.logspace(0, -4, 5, base=2)\n",
    "df = net.variationDF('b_input', bw_values)\n",
    "c_mises = np.array([])\n",
    "for bw_value in bw_values:\n",
    "    c_mises = np.append(c_mises, mises(bw_value, theta))\n"
   ]
  }
 ],
 "metadata": {
  "kernelspec": {
   "display_name": "Python 2",
   "language": "python",
   "name": "python2"
  },
  "language_info": {
   "codemirror_mode": {
    "name": "ipython",
    "version": 2
   },
   "file_extension": ".py",
   "mimetype": "text/x-python",
   "name": "python",
   "nbconvert_exporter": "python",
   "pygments_lexer": "ipython2",
   "version": "2.7.11"
  }
 },
 "nbformat": 4,
 "nbformat_minor": 0
}
