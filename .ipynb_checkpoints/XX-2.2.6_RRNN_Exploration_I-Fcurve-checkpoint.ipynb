{
 "cells": [
  {
   "cell_type": "code",
   "execution_count": null,
   "metadata": {
    "button": false,
    "collapsed": false,
    "deletable": true,
    "new_sheet": false,
    "run_control": {
     "read_only": false
    }
   },
   "outputs": [],
   "source": [
    "%matplotlib inline\n",
    "%load_ext autoreload\n",
    "%autoreload 2\n",
    "import time\n",
    "tag= 'tmp' + str(int(time.time()))"
   ]
  },
  {
   "cell_type": "markdown",
   "metadata": {
    "button": false,
    "new_sheet": false,
    "run_control": {
     "read_only": false
    }
   },
   "source": [
    "# RRNN : Courbes de taux de décharge en fonction de l'activité d'entrée et du poids de cette dernière\n",
    "\n",
    "(1) Les rasterplots permet d'avoir un aperçu qualitatif de l'activité d'une population neuronale. Cependant, il est nécessaire de pouvoir observer de façon quantitative cette activité. Ici, les effets de la manipulation de l'activité de la population source ainsi que du poids de celle-ci sur l'activité du réseau sont réexaminés. \n",
    "\n",
    "(2) Pour chacun des deux paramètres, une simulation du modèle est exécutée par valeur prise par le paramètre étudié et le taux de décharge neuronal moyen des populations E et I est recupéré. Chaque point d'une courbe étant défini par le couple (valeur du paramètre, taux de décharge), une courbe représente donc la variation de taux de décharge en fonction de la manipulation d'un paramètre.\n",
    "\n",
    "(3) Le taux de décharge augmente bien quand l'activité de la population source ou le poids des connexions de la population source à la population E augmentent."
   ]
  },
  {
   "cell_type": "code",
   "execution_count": null,
   "metadata": {
    "collapsed": false
   },
   "outputs": [
    {
     "name": "stdout",
     "output_type": "stream",
     "text": [
      "CSAConnector: libneurosim support not available in NEST.\n",
      "Falling back on PyNN's default CSAConnector.\n",
      "Please re-compile NEST using --with-libneurosim=PATH\n",
      "/usr/local/lib/python3.5/site-packages/matplotlib/__init__.py:1350: UserWarning:  This call to matplotlib.use() has no effect\n",
      "because the backend has already been chosen;\n",
      "matplotlib.use() must be called *before* pylab, matplotlib.pyplot,\n",
      "or matplotlib.backends is imported for the first time.\n",
      "\n",
      "------------  input_rate  -------------\n"
     ]
    }
   ],
   "source": [
    "import numpy as np\n",
    "from RRNN import RRNN\n",
    "n_sim_each, time = 25, 100\n",
    "\n",
    "net = RRNN(time = time)\n",
    "sim_list = [\n",
    "            ('input_rate' , net.sim_params['input_rate']*np.logspace(-1, .3, n_sim_each)),\n",
    "            ('w_input_exc', net.sim_params['w_input_exc']*np.logspace(-1, 1, n_sim_each)),\n",
    "]\n",
    "\n",
    "net.paramRole(sim_list, f_rate_max=None, datapath='/tmp/OB-V1_data/RRNN-IF' + tag)"
   ]
  },
  {
   "cell_type": "markdown",
   "metadata": {},
   "source": [
    "## more curves"
   ]
  },
  {
   "cell_type": "code",
   "execution_count": null,
   "metadata": {
    "button": false,
    "collapsed": true,
    "deletable": true,
    "new_sheet": false,
    "run_control": {
     "read_only": false
    }
   },
   "outputs": [],
   "source": [
    "sim_list = [\n",
    "            ('input_rate' , net.sim_params['input_rate']*np.logspace(-.3, .1, n_sim_each)),\n",
    "            ('w_input_exc', net.sim_params['w_input_exc']*np.logspace(-.3, .3, n_sim_each)),\n",
    "            ]\n",
    "\n",
    "net.paramRole(sim_list, f_rate_max=None, datapath='/tmp/OB-V1_data/RRNN-IF_zoom' + tag)"
   ]
  }
 ],
 "metadata": {
  "kernelspec": {
   "display_name": "Python 3",
   "language": "python",
   "name": "python3"
  },
  "language_info": {
   "codemirror_mode": {
    "name": "ipython",
    "version": 3
   },
   "file_extension": ".py",
   "mimetype": "text/x-python",
   "name": "python",
   "nbconvert_exporter": "python",
   "pygments_lexer": "ipython3",
   "version": "3.5.1"
  },
  "widgets": {
   "state": {},
   "version": "1.1.2"
  }
 },
 "nbformat": 4,
 "nbformat_minor": 0
}
