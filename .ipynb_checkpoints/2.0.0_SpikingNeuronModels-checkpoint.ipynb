{
 "cells": [
  {
   "cell_type": "markdown",
   "metadata": {
    "button": false,
    "deletable": true,
    "new_sheet": false,
    "run_control": {
     "read_only": false
    }
   },
   "source": [
    "# Le réseau de neurones artificiels\n",
    "\n",
    "Dans ce chapitre, nous développerons différents aspects de l'implémentation en Python de réseaux de neurones artificiels, en allant du plus simple au plus complexe. Nous commencerons donc par introduire le neurone \"intègre et décharge\" et traiterons de son implémentation dans un réseau simple. Cette implémentation nous permettra de tester et comparer différents simulateurs de réseaux neuronaux. Puis, nous traiterons du 'random recurrent neural network' (RRNN) et de l'exploration de ses régimes dynamiques. Enfin, nous étudierons différents états du RRNN, notamment de l'état dit \"balancé\".\n"
   ]
  },
  {
   "cell_type": "code",
   "execution_count": null,
   "metadata": {
    "collapsed": true
   },
   "outputs": [],
   "source": []
  }
 ],
 "metadata": {
  "kernelspec": {
   "display_name": "Python 3",
   "language": "python",
   "name": "python3"
  },
  "language_info": {
   "codemirror_mode": {
    "name": "ipython",
    "version": 3
   },
   "file_extension": ".py",
   "mimetype": "text/x-python",
   "name": "python",
   "nbconvert_exporter": "python",
   "pygments_lexer": "ipython3",
   "version": "3.5.1"
  },
  "widgets": {
   "state": {},
   "version": "1.1.2"
  }
 },
 "nbformat": 4,
 "nbformat_minor": 0
}
