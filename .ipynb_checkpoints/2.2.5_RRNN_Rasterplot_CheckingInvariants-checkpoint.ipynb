{
 "cells": [
  {
   "cell_type": "code",
   "execution_count": 1,
   "metadata": {
    "button": false,
    "collapsed": false,
    "deletable": true,
    "new_sheet": false,
    "run_control": {
     "read_only": false
    }
   },
   "outputs": [],
   "source": [
    "%matplotlib inline\n",
    "#import seaborn as sns\n",
    "#sns.set_style(\"whitegrid\")\n",
    "#sns.set_context(\"notebook\", font_scale=1.5, rc={\"lines.linewidth\": 2.5})\n",
    "%load_ext autoreload\n",
    "%autoreload 2"
   ]
  },
  {
   "cell_type": "markdown",
   "metadata": {
    "button": false,
    "new_sheet": false,
    "run_control": {
     "read_only": false
    }
   },
   "source": [
    "### Effet d'une covariation de l'activité d'entrée et de son poids :\n",
    "\n",
    "Il a été observé précédemment que, l'activité de la population source et les poids des connexions, entre la population source et la population E, sont positivement corrélés à l'activité du réseau. Aussi, ces deux paramètres paraissent dépendants l'un de l'autre. Il est donc nécessaire de vérifier cette interdépendance.\n",
    "\n",
    "Pour cela, des rasterplots sont générés à partir d'une covariation de ces deux paramètres. Cette covariation est effectuée en pondérant chacun des deux paramètres avec un coefficient distinct. Ces deux coefficients vont parcourir le même intervalle de valeurs, mais l'un dans un sens contraire à l'autre. De telle sorte, en fait, que le produit des deux paramètres soit toujours le même.\n",
    "\n",
    "Nous observons que seule l'activité de la population source varie. L'activité observée dans les populations E et I n'évolue pas, car le flux d'entrée, défini par l'activité de la population source et son poids, est en fait toujours le même. Nous étudions maintenant les propriétés de la connectique interne au réseau."
   ]
  },
  {
   "cell_type": "code",
   "execution_count": null,
   "metadata": {
    "button": false,
    "collapsed": true,
    "new_sheet": false,
    "run_control": {
     "read_only": false
    }
   },
   "outputs": [],
   "source": [
    "from RRNN import RRNN\n",
    "import numpy as np\n",
    "\n",
    "net = RRNN()\n",
    "rateI = net.sim_params['input_rate']\n",
    "wIe = net.sim_params['w_input_exc']\n",
    "\n",
    "_ = net.doubleVariationRaster_P2P('input_rate', rateI*np.logspace(-1, 1, 10), \n",
    "                                  'w_input_exc', wIe*np.logspace(1, -1, 10))"
   ]
  }
 ],
 "metadata": {
  "kernelspec": {
   "display_name": "Python 3",
   "language": "python",
   "name": "python3"
  },
  "language_info": {
   "codemirror_mode": {
    "name": "ipython",
    "version": 3
   },
   "file_extension": ".py",
   "mimetype": "text/x-python",
   "name": "python",
   "nbconvert_exporter": "python",
   "pygments_lexer": "ipython3",
   "version": "3.5.1"
  }
 },
 "nbformat": 4,
 "nbformat_minor": 0
}
