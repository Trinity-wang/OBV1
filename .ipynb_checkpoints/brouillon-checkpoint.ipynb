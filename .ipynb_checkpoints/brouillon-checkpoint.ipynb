{
 "cells": [
  {
   "cell_type": "markdown",
   "metadata": {},
   "source": [
    "- chez primates et carnivores : 2 zones anatomo-fonctionnelles différentes : pinwheel et intérieur d'un patch\n",
    "- chez rat : pas d'iso-orientation\n",
    "\n",
    "gradient de sélectivité :\n",
    "couche 4 : peu de sélectivité\n",
    "couche 2-3 : bcp de sélectivité\n",
    "\n",
    "problématique dans l'intégration de la réponse :\n",
    "\n",
    "on pense que neurones à certaines PO intègrent des réponses d'autres neurones de même PO\n",
    "mais ça c'est valide qu'à l'intérieur d'un patch\n",
    "qu'en est il pour le pinwheel???\n",
    "\n",
    "- si probabilité de connexion dépend uniquement de proximité anatomique : les neurones dans pinwheel sont peu sélectifs à l'orientation\n",
    "\n",
    "- du coup V1 balancé pourrait avoir SO\n",
    "\n",
    "- plusieurs stimuli gratings, mc dont la réponse a V1 à ceux ci permet d'infirmer une des deux hypothèses.\n",
    "\n",
    "\n",
    "\n",
    "\n",
    "\n",
    "\n"
   ]
  },
  {
   "cell_type": "code",
   "execution_count": null,
   "metadata": {
    "collapsed": true
   },
   "outputs": [],
   "source": []
  }
 ],
 "metadata": {
  "kernelspec": {
   "display_name": "Python 3",
   "language": "python",
   "name": "python3"
  },
  "language_info": {
   "codemirror_mode": {
    "name": "ipython",
    "version": 3
   },
   "file_extension": ".py",
   "mimetype": "text/x-python",
   "name": "python",
   "nbconvert_exporter": "python",
   "pygments_lexer": "ipython3",
   "version": "3.5.1"
  }
 },
 "nbformat": 4,
 "nbformat_minor": 0
}
