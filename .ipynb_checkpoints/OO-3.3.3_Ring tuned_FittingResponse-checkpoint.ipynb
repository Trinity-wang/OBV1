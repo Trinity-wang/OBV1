{
 "cells": [
  {
   "cell_type": "code",
   "execution_count": null,
   "metadata": {
    "collapsed": false
   },
   "outputs": [
    {
     "name": "stdout",
     "output_type": "stream",
     "text": [
      "CSAConnector: libneurosim support not available in NEST.\n",
      "Falling back on PyNN's default CSAConnector.\n",
      "Please re-compile NEST using --with-libneurosim=PATH\n",
      "/usr/local/lib/python3.5/site-packages/matplotlib/__init__.py:1350: UserWarning:  This call to matplotlib.use() has no effect\n",
      "because the backend has already been chosen;\n",
      "matplotlib.use() must be called *before* pylab, matplotlib.pyplot,\n",
      "or matplotlib.backends is imported for the first time.\n",
      "\n"
     ]
    }
   ],
   "source": [
    "%load_ext autoreload\n",
    "%autoreload 2\n",
    "\n",
    "%matplotlib inline\n",
    "import numpy as np\n",
    "from RRNN import RRNN\n",
    "import matplotlib.pyplot as plt\n"
   ]
  },
  {
   "cell_type": "markdown",
   "metadata": {},
   "source": [
    "### courbes d'accord d'un ring tuné\n",
    "\n",
    "(1: quoi) Pour démontrer notre démarche, nous allons maintenant appliquer des entrées sélectives à un réseau de connectivité aléatoire, trouver la courbe de selectivité (de type von Mises) qui correspond à la meilleure courbe d'accord sur les fréquences de décharge.\n",
    "\n",
    "(2: comment)\n",
    "\n",
    "(3:résultat) On observe une transmission parfaite de l'information lorsque les poids internes sont nuls (couplage nul) puis graduellement une diffsuion de cette information. XXX Maintenant, on va étudier le comportement d'un réseau avec une connectivité en ring."
   ]
  },
  {
   "cell_type": "markdown",
   "metadata": {},
   "source": [
    "## Fitting network response with Von Mises"
   ]
  },
  {
   "cell_type": "code",
   "execution_count": null,
   "metadata": {
    "collapsed": false
   },
   "outputs": [],
   "source": [
    "net = RRNN(time=1000, w=0.03)\n",
    "net.sim_params['b_input'] = 15.\n",
    "net.sim_params['b_input_exc'] = 15\n",
    "net.sim_params['b_exc_inh'] = 15\n",
    "net.sim_params['b_exc_exc'] = 15\n",
    "net.sim_params['b_inh_exc'] = 15\n",
    "net.sim_params['b_inh_inh'] = 15\n",
    "df, spikesE, spikesI = net.model()\n",
    "\n",
    "theta, fr, result = net.fit_vonMises(spikesE)\n",
    "\n",
    "fig, ax = plt.subplots(figsize=(8,3))\n",
    "ax.plot(theta*180/np.pi, fr, 'bo')\n",
    "#plt.plot(x, result.init_fit, 'k--')\n",
    "ax.plot(theta*180/np.pi, result.best_fit, 'r-')\n",
    "ax.axis('tight')\n",
    "ax.set_xlabel('orientation')\n",
    "ax.set_ylabel('firing rate')\n",
    "ax.set_ylim(0)\n",
    "plt.show()"
   ]
  },
  {
   "cell_type": "markdown",
   "metadata": {},
   "source": [
    "## fit en fonction de la bandwidth"
   ]
  },
  {
   "cell_type": "code",
   "execution_count": null,
   "metadata": {
    "collapsed": false,
    "scrolled": true
   },
   "outputs": [],
   "source": [
    "for w in [0., .03, .08]:\n",
    "    bw_values = 180*np.logspace(0, -4, 5, base=2)\n",
    "    #df = net.variationDF('b_input', bw_values)\n",
    "    #c_mises = np.array([])\n",
    "    fig, ax = plt.subplots(figsize=(8,3))\n",
    "    for bw_value in bw_values:\n",
    "        #c_mises = np.append(c_mises, mises(bw_value, theta))\n",
    "        net = RRNN(time=1000, w_in=0.1, w=w)\n",
    "        net.sim_params['b_input'] = bw_value\n",
    "        net.sim_params['b_input_exc'] = 15\n",
    "        net.sim_params['b_exc_inh'] = 15\n",
    "        net.sim_params['b_exc_exc'] = 15\n",
    "        net.sim_params['b_inh_exc'] = 15\n",
    "        net.sim_params['b_inh_inh'] = 15\n",
    "\n",
    "        df, spikesE, spikesI = net.model()\n",
    "        theta, fr, result = net.fit_vonMises(spikesE)\n",
    "        ax.plot(theta*180/np.pi, result.best_fit, label=str(bw_value))\n",
    "\n",
    "    ax.set_title(' w = {}'.format(w))\n",
    "    ax.set_xlabel('orientation')\n",
    "    ax.set_ylabel('firing rate')\n",
    "    ax.axis('tight')\n",
    "    ax.set_ylim(0)\n",
    "    plt.legend()\n",
    "    plt.show()"
   ]
  }
 ],
 "metadata": {
  "kernelspec": {
   "display_name": "Python 3",
   "language": "python",
   "name": "python3"
  },
  "language_info": {
   "codemirror_mode": {
    "name": "ipython",
    "version": 3
   },
   "file_extension": ".py",
   "mimetype": "text/x-python",
   "name": "python",
   "nbconvert_exporter": "python",
   "pygments_lexer": "ipython3",
   "version": "3.5.1"
  },
  "widgets": {
   "state": {},
   "version": "1.1.2"
  }
 },
 "nbformat": 4,
 "nbformat_minor": 0
}
