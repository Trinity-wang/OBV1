{
 "cells": [
  {
   "cell_type": "markdown",
   "metadata": {},
   "source": [
    "# Discussion et perspectives \n",
    "\n",
    "## Conclusion\n",
    "\n",
    "### Résultats obtenus\n",
    " \n",
    "Nous avons vu qu'une modélisation de larges réseaux neuronaux résulte en fait de nombreux choix. Certains de ces choix sont faits par rapport au stimulateur et à l'interface de programmation à utiliser. Aussi, la grande diversité de modèles neuronaux existants implique que des décisions sont également à prendre quant au choix d'un de ces modèles. Ensuite, nous avons exposé le développement de l'architecture du réseau récurrent aléatoire, qui n'est rien d'autre qu'un \"ring\" dépourvu de topologie, ainsi que son exploration. Celle-ci nous a permis d'observer quatre états du réseau, déjà montrés par Brunel, qui sont autant de dynamiques de son activité <cite data-cite=\"Brunel2000\">(Brunel, 2000)</cite>.\n",
    "Parmi ces quatre états, nous avons cherché à obtenir l'état balancé en manipulant le couplage interne excitation-inhibition, $g$. Pour obtenir cet état, nous avons procédé à une optimisation fonctionnelle du paramètre de couplage interne, sous contraintes de coefficient de variation et de gain. Nous avons alors introduit de la topologie au sein du réseau, pour implémenter un ring. Et, nous avons ensuite débuté l'étude de son comportement lorsqu'il est soumis à une entrée représentant un contenu en orientations d'un stimulus visuel.\n",
    "\n",
    "Malheureusement, les résultats obtenus actuellement sont encore insuffisants pour effectuer toute interprétation ou prédiction. Il reste encore à observer l'effet d'une entrée représentant un contenu en orientations d'un stimulus visuel sur la réponse du \"ring\". Nous procéderons alors à un ajustement des résultats avec les données issues des expérimentations physiologiques prévues dans le projet de recherche."
   ]
  },
  {
   "cell_type": "raw",
   "metadata": {
    "collapsed": true
   },
   "source": [
    "# Blub\n",
    "\n",
    "* modélisation de larges réseaux de neurones\n",
    " * neurones /pynn\n",
    " * populations\n",
    " * RRNN différents états\n",
    "\n",
    "* implémentation d'un état balancé dans un réseau arbitraire\n",
    " * couplage interne\n",
    " * optimisation fonctionnelle\n",
    " * sensibilité max\n",
    "\n",
    "* application au ring model\n",
    " * implantation du modèle ring\n",
    " * étude des états\n",
    " *  => prédiction physiologiques"
   ]
  },
  {
   "cell_type": "code",
   "execution_count": null,
   "metadata": {
    "collapsed": true
   },
   "outputs": [],
   "source": []
  }
 ],
 "metadata": {
  "kernelspec": {
   "display_name": "Python 3",
   "language": "python",
   "name": "python3"
  },
  "language_info": {
   "codemirror_mode": {
    "name": "ipython",
    "version": 3
   },
   "file_extension": ".py",
   "mimetype": "text/x-python",
   "name": "python",
   "nbconvert_exporter": "python",
   "pygments_lexer": "ipython3",
   "version": "3.5.1"
  },
  "widgets": {
   "state": {},
   "version": "1.1.2"
  }
 },
 "nbformat": 4,
 "nbformat_minor": 0
}
