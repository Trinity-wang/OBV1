{
 "cells": [
  {
   "cell_type": "code",
   "execution_count": 2,
   "metadata": {
    "collapsed": false
   },
   "outputs": [
    {
     "name": "stdout",
     "output_type": "stream",
     "text": [
      "The autoreload extension is already loaded. To reload it, use:\n",
      "  %reload_ext autoreload\n",
      "CSAConnector: libneurosim support not available in NEST.\n",
      "Falling back on PyNN's default CSAConnector.\n",
      "Please re-compile NEST using --with-libneurosim=PATH\n",
      "/usr/local/lib/python2.7/site-packages/matplotlib/__init__.py:1318: UserWarning:  This call to matplotlib.use() has no effect\n",
      "because the backend has already been chosen;\n",
      "matplotlib.use() must be called *before* pylab, matplotlib.pyplot,\n",
      "or matplotlib.backends is imported for the first time.\n",
      "\n",
      "/usr/local/lib/python2.7/site-packages/NeuroTools/__init__.py:130: DependencyWarning: ** interval ** package is not installed.\n",
      "To have functions using interval please install the package.\n",
      "website : http://pypi.python.org/pypi/interval/1.0.0\n",
      "\n"
     ]
    }
   ],
   "source": [
    "%matplotlib inline\n",
    "%load_ext autoreload\n",
    "%autoreload 2\n",
    "import time\n",
    "tag= 'tmp' + str(int(time.time()))\n",
    "\n",
    "from RRNN import RRNN"
   ]
  },
  {
   "cell_type": "markdown",
   "metadata": {},
   "source": [
    "## Le réseau récurrent aléatoire\n",
    "\n",
    "Afin de ne pas avoir à faire face à de nombreuses difficultés à la fois, il convient de développer et d'étudier le modèle de détection d'orientation étape par étape. Ainsi, avant de traiter le réseau en Ring, une généralisation de celui-ci, le réseau récurrent aléatoire ou \"random recurrent neural network\" (RRNN), est d'abord développée et explorée. Cette étape permet, dans un premier temps, de négliger la topologie du réseau pour se concentrer sur la connectique ainsi que sur la recherche et démonstration d'un état d'équilibre de celui-ci.\n",
    "\n",
    "Le RRNN utilisé est un réseau comportant mille neurones propres au réseau et cinq cents neurones pour la source, et est constitué de trois populations: une population source, une population excitatrice et une population inhibitrice. La population source mise à part, le réseau contient des neurones du même type que ceux utilisés dans le réseau feedforward étudié jusqu'à présent.\n",
    "\n",
    "Dès à présent, nous parlons de \"connexion\" pour désigner une connexion synaptique entre neurones, et de \"projection\" lorsque nous faisons référence à l'ensemble des connexions des neurones d'une population A aux neurones d'une autre population B. Le poids d'une projection, est alors le poids de toutes les connexions synaptiques de cette projection.\n",
    "\n",
    "La population source comporte des neurones qui déchargent selon un processus de Poisson homogène.\n",
    "La population excitatrice, E, reçoit l'activité émise par la source via une projection de type \"one to one\". C'est-à-dire que chaque neurone de la population source est connecté à un seul neurone de la population E. L'activité transformée par cette dernière excite la population inhibitrice.\n",
    "\n",
    "Enfin, la population inhibitrice, I,  dont les neurones possèdent, hormis leur faculté d'inhibition, les mêmes propriétés que les neurones excitateurs, inhibe E. En outre, E et I possèdent des connexions récurrentes et de façon arbitraire (car on peut régler les poids d'interaction), les populations E et I possèdent le même nombre de neurones <cite data-cite=\"Brunel2000\">(Brunel, 2000)</cite>.\n",
    "\n"
   ]
  },
  {
   "cell_type": "code",
   "execution_count": 3,
   "metadata": {
    "collapsed": true
   },
   "outputs": [],
   "source": [
    "net = RRNN()"
   ]
  },
  {
   "cell_type": "code",
   "execution_count": 4,
   "metadata": {
    "collapsed": false
   },
   "outputs": [
    {
     "data": {
      "text/plain": [
       "(   angle_input  b_exc_exc  b_exc_inh  b_inh_exc  b_inh_inh  b_input  \\\n",
       " 0           90        inf        inf        inf        inf      inf   \n",
       " \n",
       "    b_input_exc  c_exc_exc  c_exc_inh  c_inh_exc     ...       v_init_max  \\\n",
       " 0          inf      0.015      0.015      0.015     ...            -49.5   \n",
       " \n",
       "    v_init_min  v_reset  v_rest  v_thresh  w_exc_exc  w_exc_inh  w_inh_exc  \\\n",
       " 0         -53      -70     -60       -50       0.06       0.06        0.6   \n",
       " \n",
       "    w_inh_inh  w_input_exc  \n",
       " 0        0.6        0.015  \n",
       " \n",
       " [1 rows x 43 columns],\n",
       " Segment with 540 spike trains\n",
       " name: 'segment000'\n",
       " description: u'Population \"NE\"\\n    Structure   : Line\\n      y: 0.0\\n      x0: 0.0\\n      z: 0.0\\n      dx: 1.0Local cells : 540\\n    Cell type   : IF_cond_exp\\n    ID range    : 1085-1624\\n    First cell on this node:\\n      ID: 1085\\n      ',\n",
       " Segment with 540 spike trains\n",
       " name: 'segment000'\n",
       " description: u'Population \"NI\"\\n    Structure   : Line\\n      y: 0.0\\n      x0: 0.0\\n      z: 0.0\\n      dx: 1.0Local cells : 540\\n    Cell type   : IF_cond_exp\\n    ID range    : 1627-2166\\n    First cell on this node:\\n      ID: 1627\\n      ')"
      ]
     },
     "execution_count": 4,
     "metadata": {},
     "output_type": "execute_result"
    }
   ],
   "source": [
    "net.model()"
   ]
  },
  {
   "cell_type": "code",
   "execution_count": null,
   "metadata": {
    "collapsed": true
   },
   "outputs": [],
   "source": []
  }
 ],
 "metadata": {
  "kernelspec": {
   "display_name": "Python 3",
   "language": "python",
   "name": "python3"
  },
  "language_info": {
   "codemirror_mode": {
    "name": "ipython",
    "version": 3
   },
   "file_extension": ".py",
   "mimetype": "text/x-python",
   "name": "python",
   "nbconvert_exporter": "python",
   "pygments_lexer": "ipython3",
   "version": "3.5.1"
  }
 },
 "nbformat": 4,
 "nbformat_minor": 0
}
