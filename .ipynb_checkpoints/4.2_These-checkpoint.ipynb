{
 "cells": [
  {
   "cell_type": "markdown",
   "metadata": {},
   "source": [
    "## Projet de thèse\n",
    "\n",
    "### Motivation et contexte\n",
    "\n",
    "La perception, dont fait partie la détection d'orientations, n'est qu'un versant des traitements qu'effectuent le système nerveux. En effet, le système nerveux permet également à un individu d'agir sur son environnement, en fonction des informations sensorielles qu'il reçoit. La nature de ces informations, du moins une infime partie, a été étudiée au cours du projet de stage grâce à une approche computationnelle. Cette approche nécessitait des modèles de neurones avec un minimum de bioréalisme, afin de capturer les mécanismes neuronaux sous-tendant la perception de l'orientation. Nous pensons que ces modèles sont également adaptés à une étude des mécanismes physiologiques sous-tendant la décision motrice.\n",
    "\n",
    "Les décisions motrices sont au coeur des opérations effectuées par le cerveau. Comme le montrent les dernières avancées en machine learning, le domaine de l'apprentissage par renforcement apporte des concepts utiles à l'étude des décisions motrices optimales.\n",
    "Le principe d'échantillonage aléatoire de l'espace de réalisation est central. En effet, lorsque le résultat de certaines actions est inconnu, l'échantillonage de l'espace moteur est une bonne stratégie. Cet échantillonage consiste en un choix aléatoire d'actions qui va être biaisé par l'arrivée progressive d'informations sur l'environnement. Cette approche à été initialement développée dans des environnements \"quadrillés\" (comme pour le jeu d'échecs ou le jeu de go) <cite data-cite=\"sutton\"></cite>, cependant la généralisation de cette stratégie à des environnements plus complexes, où les associations situation-action sont continues, est maintenant chose courante dans le domaine de la robotique et du contrôle. Des schémas sensori-moteurs efficaces peuvent être appris de cette manière dans le cas où l'environnement se constitue de cibles statiques ou mobiles  <cite data-cite=\"dauce\"></cite>, et diverses implémentations neuromimétiques ont été proposées ces dernières années  <cite data-cite=\"florian\"></cite><cite data-cite=\"dauce2\"></cite>. Néammoins, beaucoup de problèmes restent à résoudre pour comprendre l'ensemble du flux d'actions, des premiers traitements sensoriels jusqu'à l'exécution motrice finale. Aussi, la plupart des théories ont échouées à expliquer l'adaptabilité (i.e. la généralisation d'une tâche) des systèmes sensori-moteurs biologiques.\n",
    "En effet, malgré des années d'études, beaucoup de modèles de décision proposés dans la littérature restent évasifs sur le substrat neuronal des mécanismes d'adaptation des décisions motrices.\n",
    "\n",
    "Deux approches sont généralement utilisées pour étudier les processus de décision sensori-motrice en Neurosciences : la première se concentre sur les tâches de catégorisation perceptive discrète (2AFC notamment) et un Drift-Diffusion-Model (DDM) qui postule l'existence d'une accumulation d'évidences sensorielles bruitées jusqu'à qu'un seuil soit atteint. Ces modèles permettent la prédiction de distributions de précision de réponse et de temps de réaction (RT). Cependant, les DDMs sont des modèles ad hoc descriptifs et ne peuvent pas rendre compte de décisions plus complexes. La seconde approche traite traditionnellement de tâches de contrôle moteur continu. Dans ce flux continu d'informations sensorielles, le cerveau permet des comportements contrastés en fonction de différentes échelles temporelles, du simple réflexe à un apprentissage et une prise de décision élaborée. Par exemple, la vision d'un objet mobile peut donner lieu à une variété de décisions motrices telles que la préhension ou l'esquive, selon la nature et la trajectoire de l'objet.\n",
    "\n",
    "Dans ce contexte, l'étude des mouvements oculaires permet de mettre à l'épreuve les modèles modernes de décision et d'adaptation motrice. L'orientation visuelle (i.e. le choix de l'endroit où le regard se porte), réalisée de nombreuses fois par minute chez l'homme et l'animal, est effectivement un des actes moteurs les plus élémentaires. Ce type de mouvement a été trés étudié au cours des cinquante dernières années, et le but de ce projet est de mettre au défi les concepts clés de l'apprentissage par renforcement, en utilisant une large connaissance de l'expérimentation et de la modélisation portant sur les mouvements oculaires. Récemment, des chercheurs  ont modélisé ce type de tâche à l'aide d'inférences Bayésiennes . Ces dernières représentent explicitement les dynamiques des croyances de l'individu sur sa relation au monde et, ainsi, elles peuvent rendre compte des mécanismes de l'adaptation motrice, ce qui manquait dans les précédents travaux <cite data-cite=\"montagnini\"></cite><cite data-cite=\"perrinet\"></cite><cite data-cite=\"orban\"></cite><cite data-cite=\"daye\"></cite>. \n",
    "\n",
    "### Théorie\n",
    "\n",
    "Notre but est de créer une base à une compréhension globale d'une simple adaptation sensorimotrice. L'approche de modélisation sera basée sur le paradigme de minimisation de l'énergie libre développée par Karl Friston, lequel s'adapte bien à l'étude des mouvements oculaires <cite data-cite=\"perrinet\"></cite>. Cette approche hérite et étend de précédentes formalisations, telles que le filtre de Kalman ou le filtrage bayésien variationnel, par une formalisation de principe de la surprise dans le système étudié. Ces dernières années, les approches de la perception visuelle, par le principe d'énergie libre (FEP pour Free Energy principle), ont donné naissance à un cadre de travail unifié pour le développement de modèles de décision sensorimotrice, parmi lesquels :\n",
    "\n",
    "1) L'exploration visuelle : Le FEP considère les mouvements oculaires comme un sondage de l'environnement <cite data-cite=\"friston\"></cite>. Ainsi, l'exploration par le biais de la saccade contribue à la construction d'une vision intégrée de l'espace et des objets environnants;\n",
    "\n",
    "2) La prédiction : idéalement, la précision des mouvements est maintenue en dépit de changements survenant dans l'environnement ou à l'intérieur de l'organisme. L'acte de vision, par exemple, équivaut à constamment extraire de nouvelles informations, venant de zones non fiables, ou variables, de la scène visuelle;\n",
    "\n",
    "3) L'apprentissage qui est le changement des relations élémentaires entre la perception et l'action, en ce qui concerne les attentes à propos d'objets de l'environnement.\n",
    "\n",
    "Ainsi, différents aspects des mouvements oculaires sont bien expliqués par le codage prédictif, une approche du FEP. Idéalement, équiper un système (optimisé grâce au FEP) de moyens de produire une action sur son environnement, lui offre une nouvelle manière d'échantilloner son espace visuel. Ce type de stratégie est appelée le paradigme d'inférence active. Il a été prouvé que celui-ci est hautement généralisable et biologiquement plausible <cite data-cite=\"perrinet\"></cite>. Cependant ce paradigme n'a pas été mis à l'épreuve dans la compréhension de l'adaptation motrice, notamment concernant le système oculomoteur.\n",
    "\n",
    "### Méthodes\n",
    "\n",
    "L'originalité du projet repose sur l'étude de mouvements oculaires volontaires, en réponse à des informations visuelles, qui constitue un modèle d'apprentissage moteur utilisant le paradigme d'inférence active. Des données issues d'expériences comportementales conduites chez l'Homme seront utilisées pour tester le modèle. Ces expériences portaient principalement sur les modulations du comportement oculomoteur, comme la latence, l'amplitude ou la vitesse, observées dans un environnement changeant, en relation avec un protocole de renforcement dynamique. Ce jeu de données fournit un banc de test idéal pour sonder les décisions sensorimotrices ayant lieu sur différentes échelles temporelles, sur plusieurs niveaux de traitement et sur de nombreux mouvements (e.g. poursuites versus saccades <cite data-cite=\"orban\"></cite><cite data-cite=\"daye\"></cite><cite data-cite=\"fleuriet\"></cite>). De plus, la manipulation du délai <cite data-cite=\"perrinet\"></cite>, de l'attente sensorielle ou encore de la conséquence associée aux réponses motrices révèle une remarquable flexibilité des comportements oculomoteurs <cite data-cite=\"madelain\"></cite>.\n",
    "\n",
    "### Résultats attendus\n",
    "  \n",
    "Les décisions sensorimotrices se déclinent sur différentes échelles temporelles, de dizaines de secondes à des heures, voire des jours (i.e. échelles temporelles d'adaptation et apprentissage), selon le type de prise de décision et le répertoire de mouvement. En particulier, bien que le DDM standard admet qu'une décision motrice soit prise après qu'un seuil soit franchi, aucune prédiction n'est faite à propos : 1) du contrôle du mouvement (i.e. sur le fait qu'il soit ou non modulé par des informations sensorielles); 2) de l'effecteur concerné (oeil ou main); 3) de la valeur de mouvement (succès ou échec, bénéfique ou délétère, etc...);\n",
    "\n",
    "Nous allons donc étudier et modéliser ces différentes variables du traitement de la décision. Ceci permet d'identifier trois axes majeurs dans le développement du projet:\n",
    "\n",
    "1) Exploration de l'espace visuel : identifier les échelles temporelles caractéristiques sur lesquelles la décision motrice est faite. Les modèles biologiquement inspirés de l'activité de population <cite data-cite=\"montagnini\"></cite><cite data-cite=\"perrinet\"></cite> et de la plasticité <cite data-cite=\"dauce\"></cite> seront confrontés à des données comportementales existantes sur l'exploration de l'espace visuel <cite data-cite=\"friston\"></cite>. En particulier, la stratégie d'exploration aléatoire uniforme devra être comparée à des stratégies d'exploration non aléatoire ainsi que des hypothèses \"curiosity-based\".\n",
    "2) Dynamique du changement de décision et d'action. Les tâches visuo-motrices sont des bancs d'essai classiques pour étudier le choix catégoriel, mais peu d'aspects de la dynamique du changement dans les réponses motrices sont connus. Quelle est la rapidité avec laquelle les sujets modifient un schéma moteur lorsque les conditions environnementales évoluent? Est-ce que les sujets détectent les changements? Vont-ils continuer leur action ou l'adapter aux nouvelles conditions? Afin de mieux prédire les séries caractéristiques du changement de la réponse, face à des situations ambigües et/ou inconstantes, nous testerons le rôle prédictif des fluctuations aléatoires de la réponse en relation avec la dynamique d'adaptation <cite data-cite=\"Leon12\"></cite>. Une importance particulière sera donnée: 2a) à l'analyse de la combinaison dynamique des mouvements de poursuites et de saccades dans la poursuite d'un objet mobile en cas d'incertitude sensorielle à propos de la position, de la direction et la vitesse de la cible; 2b) aux dynamiques de l'adaptation saccadique dans des protocoles à double-étape.\n",
    "3) Apprentissage et adaptation sur le long terme. Les erreurs de prédiction et les corrections en cours de mouvement sont des fonctionnalités essentielles des traitements liés à la décision. Les modèles error-based de décision en cas d'incertitude existent chez l'humain et l'animal et permettent une amélioration des temps de réaction et de la précision du mouvement.  \n",
    "\n",
    "Le cas de la capture visuelle peut, par exemple, suggérer un principe basé sur la récompense dans la fovéation de cibles visuelles saillantes. Nous allons devoir comparer un simple apprentissage non supervisé d'invariances sensorimotrices, avec un apprentissage moteur basé sur la récompense, qui prescrit implicitement un choix optimal d'action à effectuer dans le contexte visuel. En étudiant simultanemment différents types de mouvement oculaire (poursuite, poursuite lisse et saccade) sous contraintes de précision, nous cherchons à mettre au défi la capacité adaptative des modèles de décision visuomotrice. Un accent sera mis sur la conception et le test d'un modèle inférentiel prédisant des distributions de temps de réaction où interviennent des effets d'adaptation à long terme.\n",
    "\n",
    "L'adaptation des décision motrices est un vaste champ de recherche et nous espérons y contribuer de façon originale. Ici, nous confronterons les avancées les plus récentes de la modélisation de l'apprentissage par renforcement, avec des observations quantitatives des opérations visuelles effectuées par les sujets humains et animaux, en utilisant des outils modernes d'observation. Nous nous attendons à ce que ce projet permette une meilleure compréhension des processus de décision chez les sujets sains et les patients atteints, par exemple, d'autisme ou de schizophrénie <cite data-cite=\"adams\"></cite>. Cette recherche fondamentale pourrait donner lieu à des applications dans des domaines tels que la robotique ou la recherche clinique."
   ]
  },
  {
   "cell_type": "code",
   "execution_count": null,
   "metadata": {
    "collapsed": true
   },
   "outputs": [],
   "source": [
    "![(a) The ring attractor network. Each cell is positively coupled (blue) to its representational neighbors and negatively coupled (red) to the entire ring, which produces a structure of local excitation amidst global inhibition. (b) Even in the absence of external inputs, the internal dynamics of the ring network settles to a 'bump' or 'activity packet' (red, high activity; blue, low activity). This specific simulation was generated using code from ref. 5, but all ring attractor models produce equivalent dynamics. (c) An activity packet seen by Peyrache et al.1 during sleep states, showing the 'virtual gaze' of the mouse (reprinted from ref. 1 with permission).](figs/nn3977-F1.jpg)"
   ]
  }
 ],
 "metadata": {
  "kernelspec": {
   "display_name": "Python 3",
   "language": "python",
   "name": "python3"
  },
  "language_info": {
   "codemirror_mode": {
    "name": "ipython",
    "version": 3
   },
   "file_extension": ".py",
   "mimetype": "text/x-python",
   "name": "python",
   "nbconvert_exporter": "python",
   "pygments_lexer": "ipython3",
   "version": "3.5.1"
  }
 },
 "nbformat": 4,
 "nbformat_minor": 0
}
